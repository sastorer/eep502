{
 "cells": [
  {
   "cell_type": "markdown",
   "id": "4c1dd0b1-1fb0-4049-af75-5df1b1338d11",
   "metadata": {},
   "source": [
    "# Lecture 1 Examples"
   ]
  },
  {
   "cell_type": "markdown",
   "id": "1dd0f6de-9513-4757-90c2-f768a5a6584b",
   "metadata": {
    "tags": []
   },
   "source": [
    "### Lists"
   ]
  },
  {
   "cell_type": "markdown",
   "id": "8c12a8bc-f5ac-44ad-90ed-4a020eec80c0",
   "metadata": {},
   "source": [
    "Lists can be non-homogenous"
   ]
  },
  {
   "cell_type": "code",
   "execution_count": 1,
   "id": "f9ae93c1-b68e-46e0-8b87-521dab959dd8",
   "metadata": {},
   "outputs": [
    {
     "data": {
      "text/plain": [
       "['B', 1.23]"
      ]
     },
     "execution_count": 1,
     "metadata": {},
     "output_type": "execute_result"
    }
   ],
   "source": [
    "a = [1, [2,3], [\"A\", [\"B\", 1.23]]]\n",
    "b = a[2]\n",
    "b[1]"
   ]
  },
  {
   "cell_type": "markdown",
   "id": "63bf042d-0479-4d9c-9bc0-93b8a516f40c",
   "metadata": {},
   "source": [
    "List Comprehension"
   ]
  },
  {
   "cell_type": "code",
   "execution_count": 2,
   "id": "d06144da-984e-42ea-ae43-245f5696f46a",
   "metadata": {},
   "outputs": [
    {
     "data": {
      "text/plain": [
       "[0, 1, 4, 9, 16, 25, 36, 49, 64, 81]"
      ]
     },
     "execution_count": 2,
     "metadata": {},
     "output_type": "execute_result"
    }
   ],
   "source": [
    "a = range(10)\n",
    "b = [x**2 for x in a]\n",
    "b"
   ]
  },
  {
   "cell_type": "markdown",
   "id": "2424ec42-856a-49b3-91d6-5561a5fca6f2",
   "metadata": {},
   "source": [
    "## Classes\n",
    "\n",
    "`self` always gets passed into functions within a class"
   ]
  },
  {
   "cell_type": "code",
   "execution_count": 4,
   "id": "a79bf1a6-5412-4c84-9cb6-95438e16b028",
   "metadata": {},
   "outputs": [],
   "source": [
    "class myrange():\n",
    "    def __init__(self, n):\n",
    "        self.begin = 0\n",
    "        self.end = n\n",
    "    def el(self, x):\n",
    "        x + 1\n",
    "        return x\n",
    "        "
   ]
  },
  {
   "cell_type": "markdown",
   "id": "2b07b108-47c8-4ae5-9bca-588e8a8792b5",
   "metadata": {},
   "source": [
    "## Exceptions"
   ]
  },
  {
   "cell_type": "markdown",
   "id": "d84dbabc-71ae-41ed-bb3b-ae8f2fe60949",
   "metadata": {},
   "source": [
    "Exceptions can be caught using a `try` \\ `except` block"
   ]
  },
  {
   "cell_type": "code",
   "execution_count": 5,
   "id": "d374b4e5-be59-419f-b494-ead7f270b13f",
   "metadata": {},
   "outputs": [
    {
     "name": "stdout",
     "output_type": "stream",
     "text": [
      "x was not defined so it is being set to 1\n"
     ]
    },
    {
     "data": {
      "text/plain": [
       "1"
      ]
     },
     "execution_count": 5,
     "metadata": {},
     "output_type": "execute_result"
    }
   ],
   "source": [
    "try:\n",
    "    y = x\n",
    "except:\n",
    "    print(\"x was not defined so it is being set to 1\")\n",
    "    x = 1\n",
    "    y = x\n",
    "    \n",
    "y"
   ]
  },
  {
   "cell_type": "markdown",
   "id": "551a0265-10fd-4ee3-9466-bbc952f6bb0e",
   "metadata": {},
   "source": [
    "You can also make an exception happen by using the keyword `raise` followed by `Exception()`"
   ]
  },
  {
   "cell_type": "code",
   "execution_count": 7,
   "id": "7db6a53b-b5ec-43cf-8fa8-95232da3a2fd",
   "metadata": {},
   "outputs": [
    {
     "name": "stdout",
     "output_type": "stream",
     "text": [
      "2.0\n"
     ]
    },
    {
     "ename": "Exception",
     "evalue": "The reciprocol of 0/3 is not defined.",
     "output_type": "error",
     "traceback": [
      "\u001b[1;31m---------------------------------------------------------------------------\u001b[0m",
      "\u001b[1;31mException\u001b[0m                                 Traceback (most recent call last)",
      "\u001b[1;32m<ipython-input-7-d6af290b6063>\u001b[0m in \u001b[0;36m<module>\u001b[1;34m\u001b[0m\n\u001b[0;32m      6\u001b[0m \u001b[1;33m\u001b[0m\u001b[0m\n\u001b[0;32m      7\u001b[0m \u001b[0mprint\u001b[0m\u001b[1;33m(\u001b[0m\u001b[0mrecip\u001b[0m\u001b[1;33m(\u001b[0m\u001b[1;36m1\u001b[0m\u001b[1;33m,\u001b[0m\u001b[1;36m2\u001b[0m\u001b[1;33m)\u001b[0m\u001b[1;33m)\u001b[0m\u001b[1;33m\u001b[0m\u001b[0m\n\u001b[1;32m----> 8\u001b[1;33m \u001b[0mprint\u001b[0m\u001b[1;33m(\u001b[0m\u001b[0mrecip\u001b[0m\u001b[1;33m(\u001b[0m\u001b[1;36m0\u001b[0m\u001b[1;33m,\u001b[0m\u001b[1;36m3\u001b[0m\u001b[1;33m)\u001b[0m\u001b[1;33m)\u001b[0m\u001b[1;33m\u001b[0m\u001b[0m\n\u001b[0m",
      "\u001b[1;32m<ipython-input-7-d6af290b6063>\u001b[0m in \u001b[0;36mrecip\u001b[1;34m(x, y)\u001b[0m\n\u001b[0;32m      1\u001b[0m \u001b[1;32mdef\u001b[0m \u001b[0mrecip\u001b[0m\u001b[1;33m(\u001b[0m\u001b[0mx\u001b[0m\u001b[1;33m,\u001b[0m\u001b[0my\u001b[0m\u001b[1;33m)\u001b[0m\u001b[1;33m:\u001b[0m\u001b[1;33m\u001b[0m\u001b[0m\n\u001b[0;32m      2\u001b[0m     \u001b[1;32mif\u001b[0m \u001b[0mx\u001b[0m \u001b[1;33m==\u001b[0m \u001b[1;36m0\u001b[0m\u001b[1;33m:\u001b[0m\u001b[1;33m\u001b[0m\u001b[0m\n\u001b[1;32m----> 3\u001b[1;33m         \u001b[1;32mraise\u001b[0m \u001b[0mException\u001b[0m\u001b[1;33m(\u001b[0m\u001b[1;34m\"The reciprocol of %d/%d is not defined.\"\u001b[0m \u001b[1;33m%\u001b[0m \u001b[1;33m(\u001b[0m\u001b[0mx\u001b[0m\u001b[1;33m,\u001b[0m\u001b[0my\u001b[0m\u001b[1;33m)\u001b[0m\u001b[1;33m)\u001b[0m\u001b[1;33m\u001b[0m\u001b[0m\n\u001b[0m\u001b[0;32m      4\u001b[0m     \u001b[1;32melse\u001b[0m\u001b[1;33m:\u001b[0m\u001b[1;33m\u001b[0m\u001b[0m\n\u001b[0;32m      5\u001b[0m         \u001b[1;32mreturn\u001b[0m \u001b[0my\u001b[0m\u001b[1;33m/\u001b[0m\u001b[0mx\u001b[0m\u001b[1;33m\u001b[0m\u001b[0m\n",
      "\u001b[1;31mException\u001b[0m: The reciprocol of 0/3 is not defined."
     ]
    }
   ],
   "source": [
    "def recip(x,y):\n",
    "    if x == 0:\n",
    "        raise Exception(\"The reciprocol of %d/%d is not defined.\" % (x,y))\n",
    "    else:\n",
    "        return y/x\n",
    "        \n",
    "print(recip(1,2))\n",
    "print(recip(0,3))"
   ]
  },
  {
   "cell_type": "code",
   "execution_count": null,
   "id": "0c7bdfc2-593d-403d-a49f-09326b429e19",
   "metadata": {},
   "outputs": [],
   "source": []
  }
 ],
 "metadata": {
  "kernelspec": {
   "display_name": "Python 3",
   "language": "python",
   "name": "python3"
  },
  "language_info": {
   "codemirror_mode": {
    "name": "ipython",
    "version": 3
   },
   "file_extension": ".py",
   "mimetype": "text/x-python",
   "name": "python",
   "nbconvert_exporter": "python",
   "pygments_lexer": "ipython3",
   "version": "3.6.2"
  }
 },
 "nbformat": 4,
 "nbformat_minor": 5
}
