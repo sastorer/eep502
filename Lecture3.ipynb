{
 "cells": [
  {
   "cell_type": "markdown",
   "id": "c00f9ffe-b2b3-44fb-b550-588009697fe9",
   "metadata": {},
   "source": [
    "# Lecture 3"
   ]
  },
  {
   "cell_type": "markdown",
   "id": "c649613c-d62b-4536-b456-d244ba21c649",
   "metadata": {
    "tags": []
   },
   "source": [
    "## Sequences\n",
    "\n",
    "**Properties of sequences:**\n",
    "\n",
    "_A sequence is a collection of ordered elements_\n",
    "\n",
    "_A sequence is a function whose domain is a consecutive set of integers_\n",
    "\n",
    "_When a function is specified as a sequence, we typically use subscripts to denot the input to the function:_\n",
    "\n",
    "$$x(n) \\equiv x_n$$\n",
    "\n",
    "_The entire sequence is typically denoted as $x_n$ where an expression $x_n$ is a single **term of a sequence** and variable $n$ is the **index of $x_n$**_\n",
    "\n",
    "\n",
    "**Examples:**\n",
    "\n",
    "$\\{1,3,5,7,9,...\\}$\n",
    "\n",
    "$\\{2,4,6\\}$\n",
    "\n",
    "**Increasing Sequences**\n",
    "\n",
    "A sequence is increasing if for every two consecutive indices, $k$ and $k+1$ in the domain if it holds that $a_k < a_{k+1}$\n",
    "\n",
    "ex. $\\{1,3,5,...\\}$\n",
    "\n",
    "A sequence is non-decreasing if for every two consecutive indices $k$ and $k+1$ in the domain $a_k \\leq a_{k+1}$\n",
    "\n",
    "ex. $\\{1,3,3,5,7,7,9,...\\}$\n",
    "\n",
    "**Decreasing Sequences**\n",
    "\n",
    "A sequence is decreasing if for every two consecutive indices, $k$ and $k+1$ in the domain if it holds that $a_k > a_{k+1}$\n",
    "\n",
    "A sequence is non-increasing if for every two consecutive indices $k$ and $k+1$ in the domain $a_k \\geq a_{k+1}$\n",
    "\n",
    "**Geometric Sequences**\n",
    "\n",
    "A sequence of real numbers where each term after the initial term is found by taking the previous term and multiplying by a fixed number called the **common factor**.\n",
    "\n",
    "$a, ar, ar^2, ar^3, ..., ar^n$\n",
    "\n",
    "**Arithmetic Sequences**\n",
    "\n",
    "A secuence of real numbers wehre each term after the initial term if found by taking the previous term and adding a fixed number called the **common difference**.\n",
    "\n",
    "$a, a+d, a+2d, a+3d, ..., a+nd$\n",
    "\n",
    "**Combining Sequences**\n",
    "\n",
    "If $x_n$ and $y_n$ represent sequences, then we can construct new sequences by adding, substracting, multiplying, and dividing them elementwise:\n",
    "\n",
    "$(x_n + y_n)$\n",
    "\n",
    "$(x_n - y_n)$\n",
    "\n",
    "$(x_n \\times y_n)$\n",
    "\n",
    "$(x_n \\div y_n)$\n",
    "\n",
    "(use numpy arrays and sympy Ingeters in a range to do this in python)\n",
    "\n",
    "**Limits of Sequences**\n",
    "\n",
    "Lex $X = (x_n)$ be a sequence. Integer $x$ is a **limit** of $X$ if for every $\\epsilon > 0$ there exists $K(\\epsilon) \\in \\mathbb{N}$ such that for all $n \\geq K(\\epsilon)$\n",
    "\n",
    "$x - \\epsilon < x_n < x + \\epsilon$\n",
    "\n",
    "In this case we write $\\text{lim}x_n = x$ and say that $x_n$ **converges** to $x$\n",
    "\n",
    "An equivalent way to show that a sequence converges to a limit point is to use the following theorem, which can be shown by using the above definition.\n",
    "\n",
    "Let $(a_n)$ and $(x_n)$ be sequences with $\\lim a_n = 0$ and let $x \\in \\mathbb{R}$. If for some $C > 0$ and some $m > 0$ it is the case that\n",
    "\n",
    "$$\n",
    "\\left |x_n - x \\right | \\leq C\\left |a_n\\right |\n",
    "$$\n",
    "\n",
    "for all $n > m$, then $\\lim x_n = x$.\n",
    "\n",
    "**Examples:**\n",
    "\n",
    "1. Show that the limit of the sequence $x_n = \\frac{1}{n}$ is 0.\n",
    "    \n",
    "    Suppose $\\epsilon > 0$ is chosen. \n",
    "\n",
    "    Then we need:\n",
    "\n",
    "    $\\frac{1}{n} < \\epsilon$\n",
    "\n",
    "    Multiply by $\\frac{n}{\\epsilon}$ (which is positive) to get:\n",
    "\n",
    "    $\\frac{1}{\\epsilon} < n$\n",
    "\n",
    "    Thus we choose the following to satisfy the definition:\n",
    "\n",
    "    $K(\\epsilon) = \\left \\lceil \\frac{1}{\\epsilon} \\right \\rceil$\n",
    " \n",
    "\n",
    "2. Show that the limit of the sequence $x_n = \\frac{1}{2^n}$ is 0. \n",
    "\n",
    "    First, note that $0 < n < 2^n$ when $n > 0$. Then, dividing by $n2^n$, \n",
    "\n",
    "      $$\n",
    "      0 < \\frac{1}{2^n} < \\frac{1}{n}.\n",
    "      $$\n",
    "\n",
    "    Then, subtracting 0 and taking absolute values gives \n",
    "\n",
    "      $$\n",
    "      \\left | \\frac{1}{2^n} - 0 \\right | \\leq \\frac{1}{n} .\n",
    "      $$\n",
    "\n",
    "    Thus, using the theorem above with $C = 1$ and $m=1$ we can conclude that\n",
    "\n",
    "    $$\\lim \\frac{1}{2^n} = 0$$ \n",
    "    \n",
    "3. Show that $\\lim \\frac{1}{1+nr} = 0$ when $r>0$. \n",
    "\n",
    "    Since $r > 0$,\n",
    "\n",
    "    $$\n",
    "    0 < nr < 1+nr.\n",
    "    $$\n",
    "\n",
    "    Dividing by $nr(1+nr)$ gives\n",
    "\n",
    "    $$\n",
    "    0 < \\frac{1}{1+nr} < \\frac{1}{nr}\n",
    "    $$\n",
    "\n",
    "    implying that\n",
    "\n",
    "    $$\n",
    "    \\left | \\frac{1}{1+nr} \\right | \\leq \\frac{1}{r} \\left | \\frac{1}{n} \\right |.\n",
    "    $$\n",
    "\n",
    "    Thus, the theorem above applies with $C = \\frac{1}{r}$ and $m = 1$.\n",
    "    \n",
    "**Limits of Combined Sequences**\n",
    "\n",
    " If $\\lim x_n = L$ and $\\lim y_n = M$ then \n",
    "\n",
    "$\\lim x_n + y_n = L + M$\n",
    "\n",
    "$\\lim a x_n = a L$\n",
    "\n",
    "$\\lim x_n y_n = L M$\n",
    "\n",
    "and when $y_n \\neq 0$, $\\lim \\frac{x_n}{y_n} = \\frac{L}{M}$\n",
    "\n",
    "**Limits of Functions**\n",
    "\n",
    "Let $f : A \\rightarrow \\mathbb{R}$ and $c \\in A$ be a cluster point (which we won't define here, but it is just non-isolated point). Then\n",
    "\n",
    "$\\lim_{x \\rightarrow c} f(x) = L$\n",
    "\n",
    "if and only if for every $\\varepsilon > 0$, there exists a $\\delta > 0$ such that if $x \\in A$ and\n",
    "\n",
    "$0 < |x-c| < \\delta$\n",
    "\n",
    "then \n",
    "\n",
    "$|f(x)-L| < \\epsilon. $\n",
    "\n",
    "**Example:** \n",
    "1. Show $\\lim_{x \\rightarrow c} x = c$. \n",
    "\n",
    "    Given $\\varepsilon$ simply choose $\\delta = \\varepsilon$. Then \n",
    "\n",
    "    $$\n",
    "    0 < |x-c| < \\varepsilon\n",
    "    $$\n",
    "\n",
    "    is equivalent to \n",
    "\n",
    "    $$\n",
    "    0 < |x-c| < \\delta .\n",
    "    $$"
   ]
  },
  {
   "cell_type": "markdown",
   "id": "c1603252-b39b-4500-88fa-7aa1a33bf9f7",
   "metadata": {},
   "source": [
    "## Lambdas\n",
    "\n",
    "Lambdas are used when you may not want to name the function or if you need to write a function that returns another function. Essentially passing a function into another function."
   ]
  },
  {
   "cell_type": "code",
   "execution_count": 1,
   "id": "b255ce2d-9124-4d63-b932-a2a0b6b8b58a",
   "metadata": {},
   "outputs": [
    {
     "data": {
      "text/plain": [
       "124"
      ]
     },
     "execution_count": 1,
     "metadata": {},
     "output_type": "execute_result"
    }
   ],
   "source": [
    "def F(x):\n",
    "    return x + 1\n",
    "\n",
    "F(123)"
   ]
  },
  {
   "cell_type": "code",
   "execution_count": 2,
   "id": "9ace7ecd-e5a2-4486-9fe2-f94261fcc1f4",
   "metadata": {},
   "outputs": [
    {
     "data": {
      "text/plain": [
       "124"
      ]
     },
     "execution_count": 2,
     "metadata": {},
     "output_type": "execute_result"
    }
   ],
   "source": [
    "#Lambda example\n",
    "\n",
    "F = lambda x : x + 1\n",
    "\n",
    "F(123)"
   ]
  },
  {
   "cell_type": "code",
   "execution_count": 3,
   "id": "75f9e1ae-b2e8-424b-b1d2-e878283f7f6a",
   "metadata": {},
   "outputs": [
    {
     "data": {
      "text/plain": [
       "(2, 3)"
      ]
     },
     "execution_count": 3,
     "metadata": {},
     "output_type": "execute_result"
    }
   ],
   "source": [
    "#Convert a dictionary into a full fledged lambda\n",
    "\n",
    "def domain(y):\n",
    "    return set(y.keys())\n",
    "\n",
    "def dict_to_function(F):\n",
    "    return lambda x : F[x] if x in domain(F) else None\n",
    "\n",
    "f = {1:2, 2:3}\n",
    "F = dict_to_function(f)\n",
    "f[1], F(2)"
   ]
  }
 ],
 "metadata": {
  "kernelspec": {
   "display_name": "Python 3",
   "language": "python",
   "name": "python3"
  },
  "language_info": {
   "codemirror_mode": {
    "name": "ipython",
    "version": 3
   },
   "file_extension": ".py",
   "mimetype": "text/x-python",
   "name": "python",
   "nbconvert_exporter": "python",
   "pygments_lexer": "ipython3",
   "version": "3.6.2"
  }
 },
 "nbformat": 4,
 "nbformat_minor": 5
}
