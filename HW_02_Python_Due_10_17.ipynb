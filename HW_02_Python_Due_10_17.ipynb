{
 "cells": [
  {
   "cell_type": "markdown",
   "metadata": {
    "ExecuteTime": {
     "end_time": "2019-09-24T16:05:23.746666Z",
     "start_time": "2019-09-24T16:05:23.741461Z"
    }
   },
   "source": [
    "## EE 502 P: Analytical Methods for Electrical Engineering\n",
    "    \n",
    "# Homework 2: Sets, functions, and relations\n",
    "## Due October 17, 2021 by 11:59 PM\n",
    "### <span style=\"color: red\">Sarah Storer</span>\n",
    "\n",
    "Copyright &copy; 2021, University of Washington"
   ]
  },
  {
   "cell_type": "markdown",
   "metadata": {},
   "source": [
    "### 1. Set properties\n",
    "\n",
    "Given the follow definitions of sets\n",
    "\n",
    "$$A = \\{1,2,3\\}$$\n",
    "$$B = \\{3,4,5\\}$$\n",
    "$$C = \\{3,4,5,6,7\\}$$\n",
    "\n",
    "determine which of the following properties hold:\n",
    "\n",
    "$$0 \\in A$$\n",
    "\n",
    "$$4 \\in B \\cap C$$\n",
    "\n",
    "$$5 \\in C-B$$\n",
    "\n",
    "$$A \\subseteq B$$\n",
    "\n",
    "$$A \\subseteq C$$\n",
    "\n",
    "$$A \\cap B \\subseteq A$$\n",
    "\n",
    "$$B \\subseteq C$$\n",
    "\n",
    "If the property holds, say why. If it does not hold, give a counterexample showing the definition is not satisfied. "
   ]
  },
  {
   "cell_type": "markdown",
   "metadata": {},
   "source": [
    "1. $0 \\in A$ does not hold. If $0 \\in A$ then $A = \\{0,1,2,3\\}$ and that is not true.\n",
    "2. $4 \\in B \\cap C$ holds. Let the intersection of $B$ and $C$ be $X$. Then, $X = \\{3,4,5\\}$. $4 \\in X$ is true. Therefore $4 \\in B \\cap C$ is true.\n",
    "3. $5 \\in C - B$ does not hold. Let the difference between $C$ and $B$ be $X$. Then, $X = \\{6,7\\}$. $5 \\in X$ is not true. Therefore $5 \\in C - B$ is not true.\n",
    "4. $A \\subseteq B$ holds. $A$ and $B$ share the element $\\{3\\}$. Therefore, $A$ contains some elements of $B$.\n",
    "5. $A \\subseteq C$ holds. $A$ and $C$ share the element $\\{3\\}$. Therefore, $A$ contains some elements of $B$.\n",
    "6. $A \\cap B \\subseteq A$ holds. Let the intersection of $A$ and $B$ be $X$. Then, $X = \\{3\\}$. $X$ and $A$ share the element $\\{3\\}$. So, $X$ contains some elements of $A$. Therefore $A \\cap B \\subseteq A$ is true.\n",
    "7. $B \\subseteq C$ holds. $B$ and $C$ share the elements $\\{3,4,5\\}$. Therefore,$B$ contains some elements of $C$."
   ]
  },
  {
   "cell_type": "markdown",
   "metadata": {},
   "source": [
    "### 2. Set operations\n",
    "\n",
    "Let $A = \\{ 1,2,3,4,5 \\}$ and $B = \\{ 0,3,6 \\}$. Find\n",
    "\n",
    "a) $A \\cup B$\n",
    "\n",
    "b) $A \\cap B$\n",
    "\n",
    "c) $A - B$\n",
    "\n",
    "d) $B - A$\n",
    "\n",
    "Verify your results using Python sets."
   ]
  },
  {
   "cell_type": "markdown",
   "metadata": {},
   "source": [
    "a) $\\{0,1,2,3,4,5,6\\}$\n",
    "\n",
    "b) $\\{3\\}$\n",
    "\n",
    "c) $\\{1,2,4,5\\}$\n",
    "\n",
    "d) $\\{0,6\\}$"
   ]
  },
  {
   "cell_type": "code",
   "execution_count": 1,
   "metadata": {},
   "outputs": [
    {
     "name": "stdout",
     "output_type": "stream",
     "text": [
      "{0, 1, 2, 3, 4, 5, 6}\n",
      "{3}\n",
      "{1, 2, 4, 5}\n",
      "{0, 6}\n"
     ]
    }
   ],
   "source": [
    "A = {1,2,3,4,5}\n",
    "B = {0,3,6}\n",
    "print(A.union(B))\n",
    "print(A.intersection(B))\n",
    "print(A-B)\n",
    "print(B-A)"
   ]
  },
  {
   "cell_type": "markdown",
   "metadata": {},
   "source": [
    "### 3. Set Proofs\n",
    "\n",
    "Using the definitions of the set operations, the definition of the subset relation, and basic logic, show the following are true.\n",
    "\n",
    "a) $A - B \\subseteq A$\n",
    "\n",
    "b) $A \\cap (B-A) = \\varnothing$\n",
    "\n",
    "c) $A \\cup (B-A) = A \\cup B$\n",
    "\n",
    "Show examples using small sets in Python illustrating each property. "
   ]
  },
  {
   "cell_type": "markdown",
   "metadata": {},
   "source": [
    "a) The difference of sets $A$ and $B$ is the set of elements that belong to $A$ but not $B$. Therefore, $A - B$ will always be a subset of $A$ (even if that subset must be an empty set because an empty set is a subset of every set).\n",
    "\n",
    "b) The difference of sets $B$ and $A$ is the set of elements that belong to $B$ but not $A$. Let the difference $B - A$ be the set $X$. The intersection of $A$ and $X$ is the set that contains the elements in both $A$ and $X$ (also known as an AND gate). Because we subtracted all elements from set $B$ that also belong to set $A$ and stored that value in $X$, we know that $X \\subseteq A$ cannot be true. Therefore, $A \\cap X = \\varnothing$. This means that $A \\cap (B - A) = \\varnothing$ holds.\n",
    "\n",
    "c) The difference of sets $B$ and $A$ is the set of elements that belong to $B$ but not $A$. Let the difference $B - A$ be the set $X$.  We know that a union is the set that contains the elements in either $A$ or $B$ or in both (also known as an OR gate). We can show that $A \\cup X = A \\cup B$ by noting that the union removes duplicates. Without subtracting $A$ from $B$ the set $B$ would contain duplicates that are nullified by the union. Therefore, $A \\cup (B-A) = A \\cup B$ holds."
   ]
  },
  {
   "cell_type": "code",
   "execution_count": 2,
   "metadata": {},
   "outputs": [
    {
     "name": "stdout",
     "output_type": "stream",
     "text": [
      "True\n",
      "True\n",
      "True\n"
     ]
    }
   ],
   "source": [
    "A = {1,2,3}\n",
    "B = {1,2,3,4}\n",
    "\n",
    "print((A-B).issubset(A))\n",
    "print(A.intersection(B-A) == set())\n",
    "print(A.union(B-A) == A.union(B))"
   ]
  },
  {
   "cell_type": "markdown",
   "metadata": {
    "ExecuteTime": {
     "end_time": "2019-09-30T20:21:35.986395Z",
     "start_time": "2019-09-30T20:21:35.964585Z"
    }
   },
   "source": [
    "### 4. Cartesian Products\n",
    "\n",
    "a) If $A_i$ has $n_i$ elements, how many elements does $A_1 \\times A_2 \\times \\dots A_n$ have? Why?\n",
    "\n",
    "b) Give an example where the numbers of elements in $A_1 \\times A_2 \\times \\dots A_n$ is 1. \n",
    "\n",
    "c) Give examples of nonempty sets $A$ and $B$ where $A \\times B = B \\times A$. "
   ]
  },
  {
   "cell_type": "markdown",
   "metadata": {},
   "source": [
    "a) $A_1 \\times A_2 \\times \\dots A_n$ has $1 \\times 2 \\times \\dots n$ elements. This is true because a cartesian product is the set of all ordered pairs $(a, b)$ where $a \\in A \\text{ and } b \\in B$. Therefore, the cardinality of the cartesian product $A \\times B$ is the cardinality of $A$ times the cardinality of $B$.\n",
    "\n",
    "b) Let $A = \\{\\varnothing\\}$. In this case $A_1 = \\{\\varnothing\\}$ and $A_2 = \\{\\varnothing\\}$ all the way up to $A_n = \\{\\varnothing\\}$. Therefore, $A_1 \\times A_2 \\times  \\dots  A_n = \\{\\varnothing\\}$ which has a size of 1.\n",
    "\n",
    "c) Let $A = \\{1\\}$ and Let $B = \\{1\\}$. \n",
    "\n",
    "$A \\times B = \\{(1,1)\\}$ and $B \\times A = \\{(1,1)\\}$ \n",
    "\n",
    "This is true for $A = \\{2\\}$ and $B = \\{2\\}$, $A = \\{3\\}$ and $B = \\{3\\}$, and all sets $A$ and $B$ where both sets have one number and that number is the same."
   ]
  },
  {
   "cell_type": "markdown",
   "metadata": {},
   "source": [
    "### 5. Function Properties\n",
    "\n",
    "Plot each of the following functions from $\\mathbb{Z}$ to $\\mathbb{Z}$ over a representative subdomain (use points and not a line since the domain is $\\mathbb{Z}$). \n",
    "What is the range of each function? State which of them are injective, which are surjective, and which are bijective. \n",
    "For functions for which a given property holds, explain why. For functions for which the given property does not hold, give a counterexample.\n",
    "\n",
    "a) $f(n) = n-1$\n",
    "\n",
    "b) $f(n) = n^3$\n",
    "\n",
    "c) $f(n) = n^2 + 1$"
   ]
  },
  {
   "cell_type": "code",
   "execution_count": 3,
   "metadata": {},
   "outputs": [
    {
     "data": {
      "image/png": "[encoded data removed]",
      "text/plain": [
       "<matplotlib.figure.Figure at 0x5cd63f0>"
      ]
     },
     "metadata": {
      "needs_background": "light"
     },
     "output_type": "display_data"
    }
   ],
   "source": [
    "%matplotlib inline\n",
    "import matplotlib.pyplot as plt\n",
    "import numpy as np\n",
    "\n",
    "x = np.linspace(-5,5,11)\n",
    "\n",
    "fig = plt.figure(figsize=[14.4, 4.8])\n",
    "ax = fig.add_subplot(1, 3, 1)\n",
    "ax.spines['left'].set_position((\"data\", 0))\n",
    "ax.spines['bottom'].set_position((\"data\", 0))\n",
    "ax.spines['right'].set_color('none')\n",
    "ax.spines['top'].set_color('none')\n",
    "ax.xaxis.set_ticks_position('bottom')\n",
    "ax.yaxis.set_ticks_position('left')\n",
    "plt.title('$f(n) = n-1$', fontweight =\"bold\")\n",
    "plt.xlabel(\"x\")\n",
    "plt.ylabel(\"y\");\n",
    "ax.yaxis.set_label_coords(0.4, 1)\n",
    "ax.xaxis.set_label_coords(1, 0.7)\n",
    "\n",
    "# plot the function\n",
    "plt.plot(x, x-1, 'go');\n",
    "\n",
    "ax2 = fig.add_subplot(1, 3, 2)\n",
    "ax2.spines['left'].set_position((\"data\", 0))\n",
    "ax2.spines['bottom'].set_position((\"data\", 0))\n",
    "ax2.spines['right'].set_color('none')\n",
    "ax2.spines['top'].set_color('none')\n",
    "ax2.xaxis.set_ticks_position('bottom')\n",
    "ax2.yaxis.set_ticks_position('left')\n",
    "plt.title('$f(n) = n^3$', fontweight =\"bold\")\n",
    "plt.xlabel(\"x\")\n",
    "plt.ylabel(\"y\");\n",
    "ax2.yaxis.set_label_coords(0.4, 1)\n",
    "ax2.xaxis.set_label_coords(1, 0.6)\n",
    "\n",
    "# plot the function\n",
    "plt.plot(x, x**3, 'go');\n",
    "\n",
    "ax3 = fig.add_subplot(1, 3, 3)\n",
    "ax3.spines['left'].set_position((\"data\", 0))\n",
    "ax3.spines['bottom'].set_position((\"data\", 0))\n",
    "ax3.spines['right'].set_color('none')\n",
    "ax3.spines['top'].set_color('none')\n",
    "ax3.xaxis.set_ticks_position('bottom')\n",
    "ax3.yaxis.set_ticks_position('left')\n",
    "plt.title('$f(n) = n^2 + 1$', fontweight =\"bold\")\n",
    "plt.xlabel(\"x\")\n",
    "plt.ylabel(\"y\");\n",
    "ax3.yaxis.set_label_coords(0.4, 1)\n",
    "ax3.xaxis.set_label_coords(1, 0.1)\n",
    "\n",
    "# plot the function\n",
    "plt.plot(x, x**2 + 1, 'go');"
   ]
  },
  {
   "cell_type": "markdown",
   "metadata": {},
   "source": [
    "a) $f(n) = n-1$ is injective because no two elements can map to the same output. It is surjective because for every integer $y$ there is an $n$ such that $f(n) = y$. Because this function is injective and surjective it is therefore bijective. The range of this function is $(-\\infty, \\infty)$.\n",
    "\n",
    "b) $f(n) = n^3$ is injective because no two elements can map to the same output. It is surjective because for every integer $y$ there is an $n$ such that $f(n) = y$. Because this function is injective and surjective it is therefore bijective. The range of this function is $(-\\infty, \\infty)$. \n",
    "\n",
    "c) $f(n) = n^2 + 1$ is not injective because two elements CAN map to the same output. For example, $f(2) = 5 \\text{ and } f(-2) = 5$. It is not surjective because for every integer $y$ there is NOT an $n$ such that $f(n) = y$. For example, there is no integer where $f(n) = -1$. Because this function is neither injective or surjective it is therefore not bijective. The range of this function is $[1, \\infty)$."
   ]
  },
  {
   "cell_type": "markdown",
   "metadata": {},
   "source": [
    "### 6. Composition\n",
    "\n",
    "a) Suppose that $f(x) = x^2 + 1$ and $g(x) = e^x$ are functions from $\\mathbb{R}$ into $\\mathbb{R}$. Find $f \\circ g$ and $g \\circ f$ and plot them in Python (on the same axis to compare).\n",
    "\n",
    "b) Suppose $f(x) = a x + b$ and $g(x) = c x + d$ are functions from $\\mathbb{R}$ into $\\mathbb{R}$. Find constants $a$, $b$, $c$ and $d$ such that $f \\circ g = g \\circ f$. "
   ]
  },
  {
   "cell_type": "code",
   "execution_count": 4,
   "metadata": {},
   "outputs": [
    {
     "data": {
      "image/png": "[encoded data removed]",
      "text/plain": [
       "<matplotlib.figure.Figure at 0xba081b0>"
      ]
     },
     "metadata": {
      "needs_background": "light"
     },
     "output_type": "display_data"
    }
   ],
   "source": [
    "%matplotlib inline\n",
    "import math\n",
    "import numpy as np\n",
    "import matplotlib.pyplot as plt\n",
    "\n",
    "def composite_function(f, g):\n",
    "    return lambda x : f(g(x))\n",
    "  \n",
    "def f(x):\n",
    "    return x**2 + 1\n",
    "  \n",
    "def g(x):\n",
    "    return math.exp(x)\n",
    "\n",
    "compositefg = composite_function(f, g)\n",
    "\n",
    "compositegf = composite_function(g, f)\n",
    "\n",
    "x = np.linspace(-1,1,100)\n",
    "\n",
    "y = []\n",
    "for num in x:\n",
    "    y.append(compositefg(num))\n",
    "\n",
    "\n",
    "fig = plt.figure(figsize=[14.4, 4.8])\n",
    "ax = fig.add_subplot(1, 1, 1)\n",
    "ax.spines['left'].set_position((\"data\", 0))\n",
    "ax.spines['bottom'].set_position((\"data\", 0))\n",
    "ax.spines['right'].set_color('none')\n",
    "ax.spines['top'].set_color('none')\n",
    "ax.xaxis.set_ticks_position('bottom')\n",
    "ax.yaxis.set_ticks_position('left')\n",
    "\n",
    "# plot the function\n",
    "plt.plot(x, y, 'g', label='$f \\circ g$');\n",
    "plt.legend(loc='upper left');\n",
    "\n",
    "y = []\n",
    "for num in x:\n",
    "    y.append(compositegf(num))\n",
    "    \n",
    "# plot the function\n",
    "plt.plot(x, y, 'r', label='$g \\circ f$');\n",
    "plt.legend(loc='upper left');\n",
    "plt.title('Compositions of $f(x) = x^2 + 1$ and $g(x) = e^x$', fontweight =\"bold\")\n",
    "plt.xlabel(\"x\")\n",
    "plt.ylabel(\"y\");"
   ]
  },
  {
   "cell_type": "markdown",
   "metadata": {},
   "source": [
    "b) If $f(x) = a x + b$ and $g(x) = c x + d$ then:\n",
    "\n",
    "$f \\circ g = a(cx+d) + b = acx + ad + b $\n",
    "\n",
    "$g \\circ f = c(ax+b) + d = cax +cb + d  $\n",
    "\n",
    "So, we need $acx + ad + b = cax + cb + d$,\n",
    "\n",
    "Let, $d, b = 0$\n",
    "\n",
    "This gives us $acx = cax$\n",
    "\n",
    "Then, pick any value of $a$ and $c$. For example, let $a = 2$ and $c = 3$. Then, $(2)(3)x = (3)(2)x$.\n",
    "\n",
    "Therefore, $f \\circ g = g \\circ f \\text{ when } a = 2, b = 0, c = 3, d = 0$."
   ]
  },
  {
   "cell_type": "markdown",
   "metadata": {},
   "source": [
    "### 7. Relations\n",
    "\n",
    "Define the relation $R$ on $\\mathbb{N} \\times \\mathbb{N}$ saying that $x \\; R\\; y$ if and only if the binary representations of $x$ and $y$ have the same number of ones. For example, $15 \\; R \\; 23$ since $15$ in binary is $1111$ and $23$ in binary is $10111$, which both have four ones. \n",
    "\n",
    "Show that $R$ is an equivalence relation.\n",
    " "
   ]
  },
  {
   "cell_type": "markdown",
   "metadata": {},
   "source": [
    "Let $x$ and $y$ be numbers in the set of natural numbers $\\mathbb{N}$. A relation between them can be defined by $x R y \\Leftrightarrow \\text{The binary representation of } x,y \\text{ have the same number of ones}$.\n",
    "\n",
    "A relation is an equivalence relation if the relation is reflexive, symmetric, and transitive. This relation is reflexive and symmetric as you can see from the matrix representation below. The relationship is transitive because for all $(x,y) \\in R$ and all $(y,z) \\in R$ there is an $(x,z) \\in R$. Because this relation satisfies all three requirements, it is an equivalence relation."
   ]
  },
  {
   "cell_type": "code",
   "execution_count": 5,
   "metadata": {},
   "outputs": [
    {
     "name": "stdout",
     "output_type": "stream",
     "text": [
      "[[1. 0. 0. 0. 0. 0. 0.]\n",
      " [0. 1. 1. 0. 1. 0. 0.]\n",
      " [0. 1. 1. 0. 1. 0. 0.]\n",
      " [0. 0. 0. 1. 0. 1. 1.]\n",
      " [0. 1. 1. 0. 1. 0. 0.]\n",
      " [0. 0. 0. 1. 0. 1. 1.]\n",
      " [0. 0. 0. 1. 0. 1. 1.]]\n",
      "{(1, 2), (0, 0), (3, 3), (5, 5), (6, 6), (5, 6), (4, 4), (2, 1), (1, 4), (6, 3), (2, 4), (3, 6), (2, 2), (5, 3), (4, 2), (4, 1), (1, 1), (6, 5), (3, 5)}\n"
     ]
    }
   ],
   "source": [
    "import numpy as np\n",
    "\n",
    "def hasOnes(x, y):\n",
    "    x = format(x, 'b')\n",
    "    y = format(y, 'b')\n",
    "    countX, countY = 0, 0\n",
    "    for i in list(x):\n",
    "        if i == '1':\n",
    "            countX = countX + 1\n",
    "            \n",
    "    for j in list(y):\n",
    "        if j == '1':\n",
    "            countY = countY + 1\n",
    "            \n",
    "    return (countX == countY)\n",
    "\n",
    "\n",
    "n = 7\n",
    "D = { (x,y) for x in range(0,n) for y in range(0,n) if hasOnes(x,y)}\n",
    "a = np.zeros(shape=(n,n))\n",
    "\n",
    "for x,y in D:\n",
    "    a[x][y] = 1\n",
    "    \n",
    "print(a)\n",
    "print(D)"
   ]
  },
  {
   "cell_type": "markdown",
   "metadata": {},
   "source": [
    "### 8. Sets, Functions, and Relations in Python\n",
    "\n",
    "Express each of the following objects in Python.\n",
    "\n",
    "a) The set of $P$ prime numbers less than 100. \n",
    "\n",
    "b) The function $f: \\{1,2,3,4,5,6\\} \\rightarrow \\{0,1\\}$ in which $f(x) = 0$ if $x$ is even and $f(x)=1$ if $x$ is odd, expressed as a dictionary."
   ]
  },
  {
   "cell_type": "code",
   "execution_count": 9,
   "metadata": {},
   "outputs": [
    {
     "name": "stdout",
     "output_type": "stream",
     "text": [
      "2  3  5  7  11  13  17  19  23  29  31  37  41  43  47  53  59  61  67  71  73  79  83  89  97  "
     ]
    }
   ],
   "source": [
    "for num in range(0, 101):\n",
    "    if(num>1):\n",
    "        for i in range(2,num):\n",
    "            if(num%i)==0:\n",
    "                break\n",
    "        else:\n",
    "            print(num, end = '  ')"
   ]
  },
  {
   "cell_type": "code",
   "execution_count": 7,
   "metadata": {},
   "outputs": [
    {
     "data": {
      "text/plain": [
       "{1: 1, 2: 0, 3: 1, 4: 0, 5: 1, 6: 0}"
      ]
     },
     "execution_count": 7,
     "metadata": {},
     "output_type": "execute_result"
    }
   ],
   "source": [
    "x = {}\n",
    "for i in range(1,7):\n",
    "    if i%2==0:\n",
    "        x.update({i:0})\n",
    "    else:\n",
    "        x.update({i:1})\n",
    "\n",
    "x"
   ]
  }
 ],
 "metadata": {
  "kernelspec": {
   "display_name": "Python 3",
   "language": "python",
   "name": "python3"
  },
  "language_info": {
   "codemirror_mode": {
    "name": "ipython",
    "version": 3
   },
   "file_extension": ".py",
   "mimetype": "text/x-python",
   "name": "python",
   "nbconvert_exporter": "python",
   "pygments_lexer": "ipython3",
   "version": "3.6.2"
  }
 },
 "nbformat": 4,
 "nbformat_minor": 4
}
