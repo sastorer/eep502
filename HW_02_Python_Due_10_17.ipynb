{
 "cells": [
  {
   "cell_type": "markdown",
   "metadata": {
    "ExecuteTime": {
     "end_time": "2019-09-24T16:05:23.746666Z",
     "start_time": "2019-09-24T16:05:23.741461Z"
    }
   },
   "source": [
    "## EE 502 P: Analytical Methods for Electrical Engineering\n",
    "    \n",
    "# Homework 2: Sets, functions, and relations\n",
    "## Due October 17, 2021 by 11:59 PM\n",
    "### <span style=\"color: red\">Sarah Storer</span>\n",
    "\n",
    "Copyright &copy; 2021, University of Washington"
   ]
  },
  {
   "cell_type": "markdown",
   "metadata": {},
   "source": [
    "### 1. Set properties\n",
    "\n",
    "Given the follow definitions of sets\n",
    "\n",
    "$$A = \\{1,2,3\\}$$\n",
    "$$B = \\{3,4,5\\}$$\n",
    "$$C = \\{3,4,5,6,7\\}$$\n",
    "\n",
    "determine which of the following properties hold:\n",
    "\n",
    "$$0 \\in A$$\n",
    "\n",
    "$$4 \\in B \\cap C$$\n",
    "\n",
    "$$5 \\in C-B$$\n",
    "\n",
    "$$A \\subseteq B$$\n",
    "\n",
    "$$A \\subseteq C$$\n",
    "\n",
    "$$A \\cap B \\subseteq A$$\n",
    "\n",
    "$$B \\subseteq C$$\n",
    "\n",
    "If the property holds, say why. If it does not hold, give a counterexample showing the definition is not satisfied. "
   ]
  },
  {
   "cell_type": "markdown",
   "metadata": {},
   "source": [
    "1. $0 \\in A$ does not hold. If $0 \\in A$ then $A = \\{0,1,2,3\\}$ and that is not true.\n",
    "2. $4 \\in B \\cap C$ holds. Let the intersection of $B$ and $C$ be $X$. Then, $X = \\{3,4,5\\}$. $4 \\in X$ is true. Therefore $4 \\in B \\cap C$ is true.\n",
    "3. $5 \\in C - B$ does not hold. Let the difference between $C$ and $B$ be $X$. Then, $X = \\{6,7\\}$. $5 \\in X$ is not true. Therefore $5 \\in C - B$ is not true.\n",
    "4. $A \\subseteq B$ holds. $A$ and $B$ share the element $\\{3\\}$. Therefore, $A$ contains some elements of $B$.\n",
    "5. $A \\subseteq C$ holds. $A$ and $C$ share the element $\\{3\\}$. Therefore, $A$ contains some elements of $B$.\n",
    "6. $A \\cap B \\subseteq A$ holds. Let the intersection of $A$ and $B$ be $X$. Then, $X = \\{3\\}$. $X$ and $A$ share the element $\\{3\\}$. So, $X$ contains some elements of $A$. Therefore $A \\cap B \\subseteq A$ is true.\n",
    "7. $B \\subseteq C$ holds. $B$ and $C$ share the elements $\\{3,4,5\\}$. Therefore,$B$ contains some elements of $C$."
   ]
  },
  {
   "cell_type": "markdown",
   "metadata": {},
   "source": [
    "### 2. Set operations\n",
    "\n",
    "Let $A = \\{ 1,2,3,4,5 \\}$ and $B = \\{ 0,3,6 \\}$. Find\n",
    "\n",
    "a) $A \\cup B$\n",
    "\n",
    "b) $A \\cap B$\n",
    "\n",
    "c) $A - B$\n",
    "\n",
    "d) $B - A$\n",
    "\n",
    "Verify your results using Python sets."
   ]
  },
  {
   "cell_type": "markdown",
   "metadata": {},
   "source": [
    "a) $\\{0,1,2,3,4,5,6\\}$\n",
    "\n",
    "b) $\\{3\\}$\n",
    "\n",
    "c) $\\{1,2,4,5\\}$\n",
    "\n",
    "d) $\\{0,6\\}$"
   ]
  },
  {
   "cell_type": "code",
   "execution_count": 1,
   "metadata": {},
   "outputs": [
    {
     "name": "stdout",
     "output_type": "stream",
     "text": [
      "{0, 1, 2, 3, 4, 5, 6}\n",
      "{3}\n",
      "{1, 2, 4, 5}\n",
      "{0, 6}\n"
     ]
    }
   ],
   "source": [
    "A = {1,2,3,4,5}\n",
    "B = {0,3,6}\n",
    "print(A.union(B))\n",
    "print(A.intersection(B))\n",
    "print(A-B)\n",
    "print(B-A)"
   ]
  },
  {
   "cell_type": "markdown",
   "metadata": {},
   "source": [
    "### 3. Set Proofs\n",
    "\n",
    "Using the definitions of the set operations, the definition of the subset relation, and basic logic, show the following are true.\n",
    "\n",
    "a) $A - B \\subseteq A$\n",
    "\n",
    "b) $A \\cap (B-A) = \\varnothing$\n",
    "\n",
    "c) $A \\cup (B-A) = A \\cup B$\n",
    "\n",
    "Show examples using small sets in Python illustrating each property. "
   ]
  },
  {
   "cell_type": "markdown",
   "metadata": {},
   "source": [
    "a) The difference of sets $A$ and $B$ is the set of elements that belong to $A$ but not $B$. Therefore, $A - B$ will always be a subset of $A$ (even if that subset must be an empty set because an empty set is a subset of every set).\n",
    "\n",
    "b) The difference of sets $B$ and $A$ is the set of elements that belong to $B$ but not $A$. Let the difference $B - A$ be the set $X$. The intersection of $A$ and $X$ is the set that contains the elements in both $A$ and $X$ (also known as an AND gate). Because we subtracted all elements from set $B$ that also belong to set $A$ and stored that value in $X$, we know that $X \\subseteq A$ cannot be true. Therefore, $A \\cap X = \\varnothing$. This means that $A \\cap (B - A) = \\varnothing$ holds.\n",
    "\n",
    "c) The difference of sets $B$ and $A$ is the set of elements that belong to $B$ but not $A$. Let the difference $B - A$ be the set $X$.  We know that a union is the set that contains the elements in either $A$ or $B$ or in both (also known as an OR gate). We can show that $A \\cup X = A \\cup B$ by noting that the union removes duplicates. Without subtracting $A$ from $B$ the set $B$ would contain duplicates that are nullified by the union. Therefore, $A \\cup (B-A) = A \\cup B$ holds."
   ]
  },
  {
   "cell_type": "code",
   "execution_count": 11,
   "metadata": {},
   "outputs": [
    {
     "name": "stdout",
     "output_type": "stream",
     "text": [
      "True\n",
      "True\n",
      "True\n"
     ]
    }
   ],
   "source": [
    "A = {1,2,3}\n",
    "B = {1,2,3,4}\n",
    "\n",
    "print((A-B).issubset(A))\n",
    "print(A.intersection(B-A) == set())\n",
    "print(A.union(B-A) == A.union(B))"
   ]
  },
  {
   "cell_type": "markdown",
   "metadata": {
    "ExecuteTime": {
     "end_time": "2019-09-30T20:21:35.986395Z",
     "start_time": "2019-09-30T20:21:35.964585Z"
    }
   },
   "source": [
    "### 4. Cartesian Products\n",
    "\n",
    "a) If $A_i$ has $n_i$ elements, how many elements does $A_1 \\times A_2 \\times \\dots A_n$ have? Why?\n",
    "\n",
    "b) Give an example where the numbers of elements in $A_1 \\times A_2 \\times \\dots A_n$ is 1. \n",
    "\n",
    "c) Give examples of nonempty sets $A$ and $B$ where $A \\times B = B \\times A$. "
   ]
  },
  {
   "cell_type": "markdown",
   "metadata": {},
   "source": [
    "a) $A_1 \\times A_2 \\times \\dots A_n$ has $1 \\times 2 \\times \\dots n$ elements. This is true because a cartesian product is the set of all ordered pairs $(a, b)$ where $a \\in A \\text{ and } b \\in B$. Therefore, the cardinality of the cartesian product $A \\times B$ is the cardinality of $A$ times the cardinality of $B$.\n",
    "\n",
    "b) Let $A = \\{\\varnothing\\}$. In this case $A_1 = \\{\\varnothing\\}$ and $A_2 = \\{\\varnothing\\}$ all the way up to $A_n = \\{\\varnothing\\}$. Therefore, $A_1 \\times A_2 \\times  \\dots  A_n = \\{\\varnothing\\}$ which has a size of 1.\n",
    "\n",
    "c) Let $A = \\{1\\}$ and Let $B = \\{1\\}$. \n",
    "\n",
    "$A \\times B = \\{(1,1)\\}$ and $B \\times A = \\{(1,1)\\}$ \n",
    "\n",
    "This is true for $A = \\{2\\}$ and $B = \\{2\\}$, $A = \\{3\\}$ and $B = \\{3\\}$, and all sets $A$ and $B$ where both sets have one number and that number is the same."
   ]
  },
  {
   "cell_type": "markdown",
   "metadata": {},
   "source": [
    "### 5. Function Properties\n",
    "\n",
    "Plot each of the following functions from $\\mathbb{Z}$ to $\\mathbb{Z}$ over a representative subdomain (use points and not a line since the domain is $\\mathbb{Z}$). \n",
    "What is the range of each function? State which of them are injective, which are surjective, and which are bijective. \n",
    "For functions for which a given property holds, explain why. For functions for which the given property does not hold, give a counterexample.\n",
    "\n",
    "a) $f(n) = n-1$\n",
    "\n",
    "b) $f(n) = n^3$\n",
    "\n",
    "c) $f(n) = n^2 + 1$"
   ]
  },
  {
   "cell_type": "markdown",
   "metadata": {},
   "source": [
    "### 6. Composition\n",
    "\n",
    "a) Suppose that $f(x) = x^2 + 1$ and $g(x) = e^x$ are functions from $\\mathbb{R}$ into $\\mathbb{R}$. Find $f \\circ g$ and $g \\circ f$ and plot them in Python (on the same axis to compare).\n",
    "\n",
    "b) Suppose $f(x) = a x + b$ and $g(x) = c x + d$ are functions from $\\mathbb{R}$ into $\\mathbb{R}$. Find constants $a$, $b$, $c$ and $d$ such that $f \\circ g = g \\circ f$. "
   ]
  },
  {
   "cell_type": "markdown",
   "metadata": {},
   "source": [
    "### 7. Relations\n",
    "\n",
    "Define the relation $R$ on $\\mathbb{N} \\times \\mathbb{N}$ saying that $x \\; R\\; y$ if and only if the binary representations of $x$ and $y$ have the same number of ones. For example, $15 \\; R \\; 23$ since $15$ in binary is $1111$ and $23$ in binary is $10111$, which both have four ones. \n",
    "\n",
    "Show that $R$ is an equivalence relation.\n",
    " "
   ]
  },
  {
   "cell_type": "markdown",
   "metadata": {},
   "source": [
    "### 8. Sets, Functions, and Relations in Python\n",
    "\n",
    "Express each of the following objects in Python.\n",
    "\n",
    "a) The set of $P$ prime numbers less than 100. \n",
    "\n",
    "b) The function $f: \\{1,2,3,4,5,6\\} \\rightarrow \\{0,1\\}$ in which $f(x) = 0$ if $x$ is even and $f(x)=1$ if $x$ is odd, expressed as a dictionary."
   ]
  }
 ],
 "metadata": {
  "kernelspec": {
   "display_name": "Python 3",
   "language": "python",
   "name": "python3"
  },
  "language_info": {
   "codemirror_mode": {
    "name": "ipython",
    "version": 3
   },
   "file_extension": ".py",
   "mimetype": "text/x-python",
   "name": "python",
   "nbconvert_exporter": "python",
   "pygments_lexer": "ipython3",
   "version": "3.6.2"
  }
 },
 "nbformat": 4,
 "nbformat_minor": 4
}
