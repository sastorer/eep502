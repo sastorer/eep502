{
 "cells": [
  {
   "cell_type": "markdown",
   "metadata": {
    "ExecuteTime": {
     "end_time": "2019-09-24T16:05:23.746666Z",
     "start_time": "2019-09-24T16:05:23.741461Z"
    }
   },
   "source": [
    "## EE 502 P: Analytical Methods for Electrical Engineering\n",
    "    \n",
    "# Homework 6: Fourier Analysis\n",
    "## Due November 21, 2021 by 11:59 PM\n",
    "### <span style=\"color: red\">Sarah Storer</span>\n",
    "\n",
    "Copyright &copy; 2020, University of Washington"
   ]
  },
  {
   "cell_type": "markdown",
   "metadata": {
    "ExecuteTime": {
     "end_time": "2019-10-08T16:48:02.889303Z",
     "start_time": "2019-10-08T16:48:02.885366Z"
    }
   },
   "source": [
    "### 1. Exponential form of Complex Numbers\n",
    "\n",
    "Express each of the following complex numbers in the form $r e^{i\\theta}$. Do this by hand (or in Latex) and check your work with Python.\n",
    "\n",
    "$$0$$\n",
    "$$1$$\n",
    "$$-1$$\n",
    "$$i$$\n",
    "$$1-2i$$\n",
    "$$-8+7i$$"
   ]
  },
  {
   "cell_type": "markdown",
   "metadata": {},
   "source": [
    "To turn these numbers in to the requested form we must perform a Cartesian to Polar conversion:\n",
    "1. r is the magnitude of the complex number\n",
    "2. $\\theta$ is the inverse tangent of the imaginary and the real components divided by each other. \n",
    "\n",
    "For example: $3 + 4i = 5e^{0.927i}$\n",
    "\n",
    "$ \\sqrt{3^2 + 4^2} = 5$\n",
    "\n",
    "$ \\theta = \\tan^{-1}(\\frac{4}{3}) = 0.927$\n",
    "\n",
    "Then:\n",
    "\n",
    "$0 = 0 + 0i = 0$\n",
    "\n",
    "$1 = 1 + 0i = 1$\n",
    "\n",
    "$-1 = -1 + 0i = e^{\\pi i}$\n",
    "\n",
    "$i = 0 + 1i = e^{\\frac{\\pi}{2}i}$\n",
    "\n",
    "$1-2i = \\sqrt{5}e^{-1.107i}$\n",
    "\n",
    "$-8 + 7i = \\sqrt{113}e^{2.423i}$"
   ]
  },
  {
   "cell_type": "code",
   "execution_count": 6,
   "metadata": {},
   "outputs": [
    {
     "name": "stdout",
     "output_type": "stream",
     "text": [
      "(0.0, 0.0)\n",
      "(1.0, 0.0)\n",
      "(1.0, 3.141592653589793)\n",
      "(1.0, 1.5707963267948966)\n",
      "(2.23606797749979, -1.1071487177940904)\n",
      "(10.63014581273465, 2.4227626539681686)\n"
     ]
    }
   ],
   "source": [
    "import cmath\n",
    "\n",
    "print(cmath.polar(0))\n",
    "print(cmath.polar(1))\n",
    "print(cmath.polar(-1))\n",
    "print(cmath.polar(0+1j))\n",
    "print(cmath.polar(1-2j))\n",
    "print(cmath.polar(-8+7j))"
   ]
  },
  {
   "cell_type": "markdown",
   "metadata": {},
   "source": [
    "### 2. A Trigonometric Identity\n",
    "\n",
    "The goal of this exercise is to find formulas for $\\cos(\\alpha+\\beta)$ and $\\sin(\\alpha + \\beta)$. in terms of $\\sin\\alpha$, $\\sin\\beta$, $\\cos\\alpha$, and $\\cos\\beta$.\n",
    "\n",
    "a) First, express $e^{(\\alpha+\\beta)i}$ directly in terms of the $\\sin$ and $\\cos$ using Euler's formula.\n",
    "\n",
    "b) Next, express $e^{(\\alpha+\\beta)i}$ as a product of two exponentials. Then convert each term in the product into $\\sin$ and $\\cos$ using Euler's formula. Expand the expression and group the terms in the real part and the imaginary part.\n",
    "\n",
    "c) Equate the real parts and imaginary parts from (a) and (b)."
   ]
  },
  {
   "cell_type": "markdown",
   "metadata": {},
   "source": [
    "a) $e^{(\\alpha+\\beta)i} = \\cos(\\alpha+\\beta) + \\sin(\\alpha+\\beta)i$\n",
    "\n",
    "b) $e^{(\\alpha+\\beta)i} = e^{(\\alpha i+\\beta i)} = e^{\\alpha i} + e^{\\beta i} = \\cos(\\alpha) + i\\sin(\\alpha) + \\cos(\\beta) + i\\sin(\\beta) = (\\cos(\\alpha) + \\cos(\\beta)) + (\\sin(\\alpha) + \\sin(\\beta))i$\n",
    "\n",
    "c) \n",
    "\n",
    "$\\cos(\\alpha + \\beta) = \\cos(\\alpha)\\cos(\\beta) - \\sin(\\alpha)\\sin(\\beta)$ \n",
    "\n",
    "and \n",
    "\n",
    "$\\sin(\\alpha+\\beta) = \\sin(\\alpha)\\cos(\\beta) + \\cos(\\alpha)\\sin(\\beta)$\n",
    "\n",
    "so\n",
    "\n",
    "$\\cos(\\alpha)\\cos(\\beta) - \\sin(\\alpha)\\sin(\\beta) + [\\sin(\\alpha)\\cos(\\beta) + \\cos(\\alpha)\\sin(\\beta)]i$\n",
    "\n",
    "then\n",
    "\n",
    "$\\frac{1}{2}[\\cos(\\alpha-\\beta) + \\cos(\\alpha+\\beta)] - \\frac{1}{2}[\\cos(\\alpha-\\beta) - \\cos(\\alpha+\\beta)] + [\\frac{1}{2}[\\sin(\\alpha+\\beta) + \\sin(\\alpha-\\beta)] + \\frac{1}{2}[\\sin(\\alpha+\\beta) - \\sin(\\alpha-\\beta)]]i$\n",
    "\n",
    "$\\cos(\\alpha+\\beta) + \\sin(\\alpha+\\beta)i = e^{(\\alpha+\\beta)i}$\n",
    "\n",
    "\n"
   ]
  },
  {
   "cell_type": "markdown",
   "metadata": {},
   "source": [
    "### 3. Fourier Series Approximation\n",
    "\n",
    "Similar to the example of the square wave done in class, find a Fourier Series approximation to the function\n",
    "\n",
    "$$\n",
    "f(t) = \\left |cos(2\\pi t) \\right|\n",
    "$$\n",
    "\n",
    "which is a *rectified cosine*. Make sure you get the period of this function correct. Make a plot with three subplots for $N=5$, $N=10$, and $N=20$ showing better and better approximations."
   ]
  },
  {
   "cell_type": "markdown",
   "metadata": {},
   "source": [
    "Once rectified the period essentially doubles giving $2L$ or $2\\pi$.\n",
    "\n",
    "$a_n = \\frac{1}{L} \\int_0^{2L} f(x)\\cos(\\frac{n \\pi x}{L}) dx$\n",
    "\n",
    "$a_n = \\frac{1}{\\pi} \\int_0^{2\\pi} cos(2\\pi t)\\cos(n\\theta) d\\theta$"
   ]
  },
  {
   "cell_type": "markdown",
   "metadata": {},
   "source": [
    "### 4. Orthogonality\n",
    "\n",
    "Show that $\\cos(2\\pi t)$ and $\\sin(2 \\pi t)$ are orthogonal by showing that their inner product (a.k.a. dot product) is zero. Hint: Express the two functions in exponential form, and expand their product inside the integral."
   ]
  },
  {
   "cell_type": "markdown",
   "metadata": {},
   "source": [
    "### 5. Fourier Transforms\n",
    "\n",
    "Find the Fourier Transforms of the following functions. You can use `sympy`. \n",
    "Make sure to simplify, these shouldn't give complicated results. \n",
    "\n",
    "Plot original functions and their transforms in a nice 3 $\\times$ 2 grid of plots. Label the sub plots.\n",
    "\n",
    "$$\n",
    "f(t) = \\left \\{ \n",
    "\\begin{array}{l}\n",
    "1 \\;\\mathrm{if} \\;t \\geq 0 \\\\\n",
    "0 \\;\\mathrm{else}\n",
    "\\end{array}\n",
    "\\right .\n",
    "$$\n",
    "\n",
    "$$\n",
    "f(t) = \\frac{1}{1+t^2}\n",
    "$$\n",
    "\n",
    "$$\n",
    "f(t) = e^{-\\pi t^2}\n",
    "$$"
   ]
  },
  {
   "cell_type": "markdown",
   "metadata": {},
   "source": [
    "### 6. Solve a system of ODEs\n",
    "\n",
    "Similar to the ODE example in the notes, find a solution to the two differential equations\n",
    "\n",
    "\\begin{eqnarray}\n",
    "\\dot x & = & -y \\\\\n",
    "\\dot y & = & -x + u\n",
    "\\end{eqnarray}\n",
    "\n",
    "a) First take the Fourier Transform of both equations. \n",
    "\n",
    "b) Solve for $Y(s)$ in terms of $U(s)$. \n",
    "\n",
    "c) Note that the solution for $Y(s)$ involves a function of $s$ times $U(s)$. Figure out the inverse Fourier Transform of that function. \n",
    "\n",
    "d) Use a convolution to figure out $y(t)$ in terms of $u(t)$. \n",
    "\n",
    "e) Find $X(s)$ in terms of $Y(s)$ and then $x(t)$ in terms of $y(t)$. "
   ]
  },
  {
   "cell_type": "markdown",
   "metadata": {},
   "source": [
    "### 7.  Image Processing\n",
    "\n",
    "Find a nice gray scale image to load, or use the Minion image from class. Call the resulting matrix $m$.\n",
    "\n",
    "a) Render the image using `matplotlib`. \n",
    "\n",
    "b) Take the DFT of the image $m$ to get a matrix $M$. Then make a new matrix $M_\\mathrm{new}$ in which each entry is just the magnitude of the corresponding entry in $M$. Create a new image from the inverse Fourier transform of this image and render it. \n",
    "\n",
    "c) Do the same thing, except set the entries in $M_\\mathrm{new}$ to the angle of the entries in $M$. Create a new image from the inverse Fourier transform of this image and render it.\n",
    "\n",
    "d) Do the same thing, except normalize all the entries in $M_\\mathrm{new}$ to have magnitude 1. Create a new image from the inverse Fourier transform of this image and render it.\n",
    "\n",
    "What might you conclude about the information contained in the magnitude of the transformed image? What might you conclude about the information contained in the angle?"
   ]
  }
 ],
 "metadata": {
  "kernelspec": {
   "display_name": "Python 3",
   "language": "python",
   "name": "python3"
  },
  "language_info": {
   "codemirror_mode": {
    "name": "ipython",
    "version": 3
   },
   "file_extension": ".py",
   "mimetype": "text/x-python",
   "name": "python",
   "nbconvert_exporter": "python",
   "pygments_lexer": "ipython3",
   "version": "3.6.2"
  }
 },
 "nbformat": 4,
 "nbformat_minor": 4
}
