{
 "cells": [
  {
   "cell_type": "markdown",
   "metadata": {
    "ExecuteTime": {
     "end_time": "2019-09-24T16:05:23.746666Z",
     "start_time": "2019-09-24T16:05:23.741461Z"
    }
   },
   "source": [
    "## EE 502 P: Analytical Methods for Electrical Engineering\n",
    "    \n",
    "# Homework 3: Real Analysis\n",
    "## Due October 24, 2021 by 11:59 PM\n",
    "### <span style=\"color: red\">Sarah Storer</span>\n",
    "\n",
    "Copyright &copy; 2021, University of Washington"
   ]
  },
  {
   "cell_type": "markdown",
   "metadata": {
    "ExecuteTime": {
     "end_time": "2019-10-08T16:48:02.889303Z",
     "start_time": "2019-10-08T16:48:02.885366Z"
    }
   },
   "source": [
    "### 1. Sequences\n",
    "\n",
    "For each of the patterns below, define a formula for $n$-th term $x_n$ of the sequence. Then, plot the first 20 terms of the sequences. Combine all three plots into a figure using the subplot command. Label everything.\n",
    "\n",
    "a) 4, 8, 12, 16,...\n",
    "\n",
    "b) 1, 6, 11, 16, 21, ...\n",
    "\n",
    "c) 1/2, 2/3, 3/4, 4/5, ...\n",
    "\n",
    "d) 1/2, -1/4, 1/8, -1/16, ...\n",
    "\n",
    "e) 1, 1, 2, 3, 5, 8, ..\n",
    "\n"
   ]
  },
  {
   "cell_type": "markdown",
   "metadata": {},
   "source": [
    "a) $x(n) = 4 + 4n$\n",
    "\n",
    "b) $x(n) = 5n+ 1$\n",
    "\n",
    "c) $x(n) = \\frac{n}{n+1}$\n",
    "\n",
    "d) $x(n) = \\frac{(-1)^{n+1}}{2^n}$ for all $x > 0$\n",
    "\n",
    "e) $x(n) = x_{n-1} + x_{n-2}$ where $x_0 = 0$ and $x_1 = 1$"
   ]
  },
  {
   "cell_type": "code",
   "execution_count": 60,
   "metadata": {},
   "outputs": [
    {
     "data": {
      "image/png": "[encoded data removed]",
      "text/plain": [
       "<matplotlib.figure.Figure at 0xc43e8b0>"
      ]
     },
     "metadata": {
      "needs_background": "light"
     },
     "output_type": "display_data"
    }
   ],
   "source": [
    "%matplotlib inline\n",
    "import matplotlib.pyplot as plt\n",
    "import numpy as np\n",
    "\n",
    "x = np.linspace(0,20,20)\n",
    "\n",
    "fig = plt.figure(figsize=[20, 4])\n",
    "ax = fig.add_subplot(1, 5, 1)\n",
    "ax.spines['left'].set_position((\"data\", 0))\n",
    "ax.spines['bottom'].set_position((\"data\", 0))\n",
    "ax.spines['right'].set_color('none')\n",
    "ax.spines['top'].set_color('none')\n",
    "ax.xaxis.set_ticks_position('bottom')\n",
    "ax.yaxis.set_ticks_position('left')\n",
    "plt.title('$f(n) = 4n+4$', fontweight =\"bold\")\n",
    "plt.xlabel(\"x\")\n",
    "plt.ylabel(\"y\");\n",
    "\n",
    "# plot the function\n",
    "plt.plot(x, (4*x+4), 'go');\n",
    "\n",
    "ax2 = fig.add_subplot(1, 5, 2)\n",
    "ax2.spines['left'].set_position((\"data\", 0))\n",
    "ax2.spines['bottom'].set_position((\"data\", 0))\n",
    "ax2.spines['right'].set_color('none')\n",
    "ax2.spines['top'].set_color('none')\n",
    "ax2.xaxis.set_ticks_position('bottom')\n",
    "ax2.yaxis.set_ticks_position('left')\n",
    "plt.title('$f(n) = 5n + 1$', fontweight =\"bold\")\n",
    "plt.xlabel(\"x\")\n",
    "plt.ylabel(\"y\");\n",
    "\n",
    "# plot the function\n",
    "plt.plot(x, (5*x+1), 'go');\n",
    "\n",
    "ax3 = fig.add_subplot(1, 5, 3)\n",
    "ax3.spines['left'].set_position((\"data\", 0))\n",
    "ax3.spines['bottom'].set_position((\"data\", 0))\n",
    "ax3.spines['right'].set_color('none')\n",
    "ax3.spines['top'].set_color('none')\n",
    "ax3.xaxis.set_ticks_position('bottom')\n",
    "ax3.yaxis.set_ticks_position('left')\n",
    "plt.title('$f(n) = n/(n+1)$', fontweight =\"bold\")\n",
    "plt.xlabel(\"x\")\n",
    "plt.ylabel(\"y\");\n",
    "\n",
    "# plot the function\n",
    "plt.plot(x, (x/(x+1)), 'go');\n",
    "\n",
    "ax4 = fig.add_subplot(1, 5, 4)\n",
    "ax4.spines['left'].set_position((\"data\", 0))\n",
    "ax4.spines['bottom'].set_position((\"data\", 0))\n",
    "ax4.spines['right'].set_color('none')\n",
    "ax4.spines['top'].set_color('none')\n",
    "ax4.xaxis.set_ticks_position('bottom')\n",
    "ax4.yaxis.set_ticks_position('left')\n",
    "plt.title('$f(n) = (-1)^{n+1}/(2^n)$', fontweight =\"bold\")\n",
    "plt.xlabel(\"x\")\n",
    "plt.ylabel(\"y\");\n",
    "\n",
    "# plot the function\n",
    "x = np.linspace(1,20,20, dtype=int)\n",
    "plt.plot(x, np.power(-1, (x+1))/np.power(2,x), 'go');\n",
    "\n",
    "ax5 = fig.add_subplot(1, 5, 5)\n",
    "ax5.spines['left'].set_position((\"data\", 0))\n",
    "ax5.spines['bottom'].set_position((\"data\", 0))\n",
    "ax5.spines['right'].set_color('none')\n",
    "ax5.spines['top'].set_color('none')\n",
    "ax5.xaxis.set_ticks_position('bottom')\n",
    "ax5.yaxis.set_ticks_position('left')\n",
    "plt.title('Fibonnaci Sequence', fontweight =\"bold\")\n",
    "plt.xlabel(\"x\")\n",
    "plt.ylabel(\"y\");\n",
    "\n",
    "m = []\n",
    "y = np.linspace(1,20,20,dtype=int)\n",
    "fib1 = 0\n",
    "fib2 = 1\n",
    "m.append(0)\n",
    "m.append(1)\n",
    "i = 3\n",
    "while i <= 20:\n",
    "    fib3 = fib1 + fib2\n",
    "    fib1 = fib2\n",
    "    fib2 = fib3\n",
    "    m.append(fib3)\n",
    "    i = i + 1\n",
    "# plot the function\n",
    "plt.plot(y, m, 'go');"
   ]
  },
  {
   "cell_type": "markdown",
   "metadata": {},
   "source": [
    "### 2. Sequence Convergence\n",
    "\n",
    "Show that the following sequences have the given limits using either an $\\varepsilon-\\delta$ argument, or an appropriate theorem from the lecture notes. \n",
    "\n",
    "a) $\\lim \\frac{3n+1}{2n+5} = \\frac{3}{2}$\n",
    "\n",
    "b) $\\lim \\frac{2n}{n+2} = 2$\n",
    "\n",
    "c) $\\lim\\left(\\frac{1}{n} - \\frac{1}{n+1} \\right) = 0$\n",
    "\n",
    "d) $\\lim \\frac{n + 5}{n^{2}} = 0$\n",
    "\n",
    "e) $\\lim \\left(\\frac{1}{3n}\\right)^{2} = 0$"
   ]
  },
  {
   "cell_type": "markdown",
   "metadata": {},
   "source": [
    "### 3. Proving non-convergence\n",
    "\n",
    "Show that the sequence $(x_n)$ where $x_n = (-1)^n$ does not converge to any number $c$. Use the definition of a limit for sequences. Given $\\varepsilon > 0$, you have to show that there does not exist an $m$ such that for all $n>m$ such that $c-\\varepsilon < x_n < c+\\varepsilon$. "
   ]
  },
  {
   "cell_type": "markdown",
   "metadata": {},
   "source": [
    "### 4. Sequences via recurrence relations\n",
    "\n",
    "Let $x_0 = 1$ and $x_{i+1} = - a x_i$ where $0 < a < 1$.\n",
    "\n",
    "a) Plot the first 20 points in $(x_n)$ when $a=\\frac{1}{2}$. \n",
    "\n",
    "b) Show that $(x_n)$ converges to 0. "
   ]
  },
  {
   "cell_type": "markdown",
   "metadata": {},
   "source": [
    " ### 5. Sequences via recurrence relations - 2\n",
    "\n",
    "Let $x_0 = 1$ and $x_{i+1} = - a x_i + \\frac{1}{5}$ where $0 < a < 1$.\n",
    "\n",
    "a) Plot the first 20 points in $(x_n)$ when $a=\\frac{1}{3}$. \n",
    "\n",
    "b) Show that $(x_n)$ converges to 0. "
   ]
  },
  {
   "cell_type": "markdown",
   "metadata": {},
   "source": [
    " ### 6. Sequences via recurrence relations - 3\n",
    "\n",
    "Let $x_0 = 1$ and $x_{i+1} = - a x_i$ where $0 < a \\leq 1$.\n",
    "\n",
    "a) Plot the first 20 points in $(x_n)$ when $a=1$. \n",
    "\n",
    "b) What happens with the convergance of the given sequences $(x_n)$?"
   ]
  },
  {
   "cell_type": "markdown",
   "metadata": {},
   "source": [
    " ### 7. Sequences via recurrence relations - 7\n",
    "\n",
    "Let $x_0 = 1$ and $x_{i+1} = a x_i$ where $a \\geq 1$.\n",
    "\n",
    "a) Plot the first 20 points in $(x_n)$ when $a= \\frac{3}{2}$. \n",
    "\n",
    "b) What happens with the convergance of the given sequences $(x_n)$?"
   ]
  },
  {
   "cell_type": "markdown",
   "metadata": {},
   "source": [
    "### 8. Definition of Derivative\n",
    "\n",
    "Use the definition of the derivative to find the derivatives of the following functions.\n",
    "\n",
    "a) $f(x) = x^3$, for any $x$\n",
    "\n",
    "b) $g(x) = 1/x$, for $x \\neq 0$\n",
    "\n",
    "c) $h(x) = \\sqrt{x}$, for $x > 0$\n",
    "\n",
    "d) $k(x) = x^{-1/2}$ for $x > 0$."
   ]
  },
  {
   "cell_type": "markdown",
   "metadata": {},
   "source": [
    "### 9. The Chain Rule\n",
    "\n",
    "Use the chain rule to find these deriviatives. Verify your results with `sympy`.\n",
    "\n",
    "a) $f(x) = \\frac{1}{1+x^2}$\n",
    "\n",
    "b) $h(x) = (\\sin x^k)^m$ for $m,k \\in \\mathbb{N}$"
   ]
  }
 ],
 "metadata": {
  "kernelspec": {
   "display_name": "Python 3",
   "language": "python",
   "name": "python3"
  },
  "language_info": {
   "codemirror_mode": {
    "name": "ipython",
    "version": 3
   },
   "file_extension": ".py",
   "mimetype": "text/x-python",
   "name": "python",
   "nbconvert_exporter": "python",
   "pygments_lexer": "ipython3",
   "version": "3.6.2"
  }
 },
 "nbformat": 4,
 "nbformat_minor": 4
}
