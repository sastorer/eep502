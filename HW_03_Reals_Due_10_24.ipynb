{
 "cells": [
  {
   "cell_type": "markdown",
   "metadata": {
    "ExecuteTime": {
     "end_time": "2019-09-24T16:05:23.746666Z",
     "start_time": "2019-09-24T16:05:23.741461Z"
    }
   },
   "source": [
    "## EE 502 P: Analytical Methods for Electrical Engineering\n",
    "    \n",
    "# Homework 3: Real Analysis\n",
    "## Due October 24, 2021 by 11:59 PM\n",
    "### <span style=\"color: red\">Sarah Storer</span>\n",
    "\n",
    "Copyright &copy; 2021, University of Washington"
   ]
  },
  {
   "cell_type": "markdown",
   "metadata": {
    "ExecuteTime": {
     "end_time": "2019-10-08T16:48:02.889303Z",
     "start_time": "2019-10-08T16:48:02.885366Z"
    }
   },
   "source": [
    "### 1. Sequences\n",
    "\n",
    "For each of the patterns below, define a formula for $n$-th term $x_n$ of the sequence. Then, plot the first 20 terms of the sequences. Combine all three plots into a figure using the subplot command. Label everything.\n",
    "\n",
    "a) 4, 8, 12, 16,...\n",
    "\n",
    "b) 1, 6, 11, 16, 21, ...\n",
    "\n",
    "c) 1/2, 2/3, 3/4, 4/5, ...\n",
    "\n",
    "d) 1/2, -1/4, 1/8, -1/16, ...\n",
    "\n",
    "e) 1, 1, 2, 3, 5, 8, ..\n",
    "\n"
   ]
  },
  {
   "cell_type": "markdown",
   "metadata": {},
   "source": [
    "a) $x(n) = 4 + 4n$\n",
    "\n",
    "b) $x(n) = 5n+ 1$\n",
    "\n",
    "c) $x(n) = \\frac{n}{n+1}$\n",
    "\n",
    "d) $x(n) = \\frac{(-1)^{n+1}}{2^n}$ for all $x > 0$\n",
    "\n",
    "e) $x(n) = x_{n-1} + x_{n-2}$ where $x_0 = 0$ and $x_1 = 1$"
   ]
  },
  {
   "cell_type": "code",
   "execution_count": 1,
   "metadata": {},
   "outputs": [
    {
     "data": {
      "image/png": "[encoded data removed]",
      "text/plain": [
       "<matplotlib.figure.Figure at 0x6006fd0>"
      ]
     },
     "metadata": {
      "needs_background": "light"
     },
     "output_type": "display_data"
    }
   ],
   "source": [
    "%matplotlib inline\n",
    "import matplotlib.pyplot as plt\n",
    "import numpy as np\n",
    "\n",
    "x = np.linspace(0,20,20)\n",
    "\n",
    "fig = plt.figure(figsize=[20, 4])\n",
    "ax = fig.add_subplot(1, 5, 1)\n",
    "ax.spines['left'].set_position((\"data\", 0))\n",
    "ax.spines['bottom'].set_position((\"data\", 0))\n",
    "ax.spines['right'].set_color('none')\n",
    "ax.spines['top'].set_color('none')\n",
    "ax.xaxis.set_ticks_position('bottom')\n",
    "ax.yaxis.set_ticks_position('left')\n",
    "plt.title('$f(n) = 4n+4$', fontweight =\"bold\")\n",
    "plt.xlabel(\"x\")\n",
    "plt.ylabel(\"y\");\n",
    "\n",
    "# plot the function\n",
    "plt.plot(x, (4*x+4), 'go');\n",
    "\n",
    "ax2 = fig.add_subplot(1, 5, 2)\n",
    "ax2.spines['left'].set_position((\"data\", 0))\n",
    "ax2.spines['bottom'].set_position((\"data\", 0))\n",
    "ax2.spines['right'].set_color('none')\n",
    "ax2.spines['top'].set_color('none')\n",
    "ax2.xaxis.set_ticks_position('bottom')\n",
    "ax2.yaxis.set_ticks_position('left')\n",
    "plt.title('$f(n) = 5n + 1$', fontweight =\"bold\")\n",
    "plt.xlabel(\"x\")\n",
    "plt.ylabel(\"y\");\n",
    "\n",
    "# plot the function\n",
    "plt.plot(x, (5*x+1), 'go');\n",
    "\n",
    "ax3 = fig.add_subplot(1, 5, 3)\n",
    "ax3.spines['left'].set_position((\"data\", 0))\n",
    "ax3.spines['bottom'].set_position((\"data\", 0))\n",
    "ax3.spines['right'].set_color('none')\n",
    "ax3.spines['top'].set_color('none')\n",
    "ax3.xaxis.set_ticks_position('bottom')\n",
    "ax3.yaxis.set_ticks_position('left')\n",
    "plt.title('$f(n) = n/(n+1)$', fontweight =\"bold\")\n",
    "plt.xlabel(\"x\")\n",
    "plt.ylabel(\"y\");\n",
    "\n",
    "# plot the function\n",
    "plt.plot(x, (x/(x+1)), 'go');\n",
    "\n",
    "ax4 = fig.add_subplot(1, 5, 4)\n",
    "ax4.spines['left'].set_position((\"data\", 0))\n",
    "ax4.spines['bottom'].set_position((\"data\", 0))\n",
    "ax4.spines['right'].set_color('none')\n",
    "ax4.spines['top'].set_color('none')\n",
    "ax4.xaxis.set_ticks_position('bottom')\n",
    "ax4.yaxis.set_ticks_position('left')\n",
    "plt.title('$f(n) = (-1)^{n+1}/(2^n)$', fontweight =\"bold\")\n",
    "plt.xlabel(\"x\")\n",
    "plt.ylabel(\"y\");\n",
    "\n",
    "# plot the function\n",
    "x = np.linspace(1,20,20, dtype=int)\n",
    "plt.plot(x, np.power(-1, (x+1))/np.power(2,x), 'go');\n",
    "\n",
    "ax5 = fig.add_subplot(1, 5, 5)\n",
    "ax5.spines['left'].set_position((\"data\", 0))\n",
    "ax5.spines['bottom'].set_position((\"data\", 0))\n",
    "ax5.spines['right'].set_color('none')\n",
    "ax5.spines['top'].set_color('none')\n",
    "ax5.xaxis.set_ticks_position('bottom')\n",
    "ax5.yaxis.set_ticks_position('left')\n",
    "plt.title('Fibonacci Sequence', fontweight =\"bold\")\n",
    "plt.xlabel(\"x\")\n",
    "plt.ylabel(\"y\");\n",
    "\n",
    "m = []\n",
    "y = np.linspace(1,20,20,dtype=int)\n",
    "fib1 = 0\n",
    "fib2 = 1\n",
    "m.append(fib1)\n",
    "m.append(fib2)\n",
    "i = 3\n",
    "while i <= 20:\n",
    "    fib3 = fib1 + fib2\n",
    "    fib1 = fib2\n",
    "    fib2 = fib3\n",
    "    m.append(fib3)\n",
    "    i = i + 1\n",
    "# plot the function\n",
    "plt.plot(y, m, 'go');"
   ]
  },
  {
   "cell_type": "markdown",
   "metadata": {},
   "source": [
    "### 2. Sequence Convergence\n",
    "\n",
    "Show that the following sequences have the given limits using either an $\\varepsilon-\\delta$ argument, or an appropriate theorem from the lecture notes. \n",
    "\n",
    "a) $\\lim \\frac{3n+1}{2n+5} = \\frac{3}{2}$\n",
    "\n",
    "b) $\\lim \\frac{2n}{n+2} = 2$\n",
    "\n",
    "c) $\\lim\\left(\\frac{1}{n} - \\frac{1}{n+1} \\right) = 0$\n",
    "\n",
    "d) $\\lim \\frac{n + 5}{n^{2}} = 0$\n",
    "\n",
    "e) $\\lim \\left(\\frac{1}{3n}\\right)^{2} = 0$"
   ]
  },
  {
   "cell_type": "markdown",
   "metadata": {},
   "source": [
    "a) For an arbitrary but fixed $\\epsilon > 0$ there is $|s_n−L|<\\epsilon$  for all $n \\geq \\mathbb{N}(\\epsilon)$. Let $s_n = \\frac{3n+1}{2n+5}$ and let $L = \\frac{3}{2}$ then $|\\frac{3n+1}{2n+5} - \\frac{3}{2}| < \\epsilon$. \n",
    "\n",
    "$|\\frac{-13}{4n+10}| < \\epsilon$\n",
    "\n",
    "$\\frac{13}{4n+10} < \\epsilon$\n",
    "\n",
    "solving for n:\n",
    "\n",
    "$n > \\frac{13}{4\\epsilon} - \\frac{5}{2}$\n",
    "\n",
    "so given $\\epsilon >0$, $|\\frac{3n+1}{2n+5} - \\frac{3}{2}| = \\frac{13}{4n+10} < \\epsilon$, if $n > \\frac{13}{4\\epsilon} - \\frac{5}{2}$\n",
    "\n",
    "b) For an arbitrary but fixed $\\epsilon > 0$ there is $|s_n−L|<\\epsilon$  for all $n \\geq \\mathbb{N}(\\epsilon)$. Let $s_n = \\frac{2n}{n+2}$ and let $L = 2$ then $|\\frac{2n}{n+2} - 2| < \\epsilon$. \n",
    "\n",
    "$|\\frac{2}{n+2}| < \\epsilon$\n",
    "\n",
    "$\\frac{2}{n+2} < \\epsilon$\n",
    "\n",
    "solving for n:\n",
    "\n",
    "$n > \\frac{2}{\\epsilon} - 2$\n",
    "\n",
    "so given $\\epsilon >0$, $|\\frac{2n}{n+2} - 2| = \\frac{2}{n+2} < \\epsilon$, if $n > \\frac{2}{\\epsilon} - 2$\n",
    "\n",
    "c) For an arbitrary but fixed $\\epsilon > 0$ there is $|s_n−L|<\\epsilon$  for all $n \\geq \\mathbb{N}(\\epsilon)$. \n",
    "\n",
    "$\\lim\\left(\\frac{1}{n} - \\frac{1}{n+1} \\right) = \\lim(\\frac{1}{n}) - \\lim(\\frac{1}{n+1})$. We know $\\lim(\\frac{1}{n}) = 0$. So we must only prove that $\\lim(\\frac{1}{n+1}) = 0$\n",
    "\n",
    "Let $s_n = \\frac{1}{n+1}$ and let $L = 0$ then $|\\frac{1}{n+1} - 0| < \\epsilon$. \n",
    "\n",
    "$|\\frac{1}{n+1}| < \\epsilon$\n",
    "\n",
    "$\\frac{1}{n+1} < \\epsilon$\n",
    "\n",
    "solving for n:\n",
    "\n",
    "$n > \\frac{1}{\\epsilon} - 1$\n",
    "\n",
    "so given $\\epsilon >0$, $|\\frac{1}{n+1} - 0| = \\frac{1}{n+1} < \\epsilon$, if $n > \\frac{1}{\\epsilon} - 1$\n",
    "\n",
    "d) $\\lim \\frac{n + 5}{n^{2}} = \\lim(\\frac{1}{n}) * \\lim(\\frac{n+5}{n})$. We know $\\lim(\\frac{1}{n}) = 0$. Therefore $\\lim \\frac{n + 5}{n^{2}} = 0$.\n",
    "\n",
    "e) $\\lim \\left(\\frac{1}{3n}\\right)^{2} = \\lim \\left(\\frac{1}{9n^2}\\right) = \\lim(\\frac{1}{n}) * \\lim(\\frac{1}{9n})$. We know $\\lim(\\frac{1}{n}) = 0$. Therefore $\\lim \\left(\\frac{1}{3n}\\right)^{2} = 0$\n"
   ]
  },
  {
   "cell_type": "markdown",
   "metadata": {},
   "source": [
    "### 3. Proving non-convergence\n",
    "\n",
    "Show that the sequence $(x_n)$ where $x_n = (-1)^n$ does not converge to any number $c$. Use the definition of a limit for sequences. Given $\\varepsilon > 0$, you have to show that there does not exist an $m$ such that for all $n>m$ such that $c-\\varepsilon < x_n < c+\\varepsilon$. "
   ]
  },
  {
   "cell_type": "markdown",
   "metadata": {},
   "source": [
    "Definition of a limit:  $\\forall \\epsilon>0,\\exists N$  s.t.  $|c-xn|<\\epsilon,  \\forall n>N $\n",
    "Prove that  $xn=(-1)n$  is divergent by proving that the opposite of the limit is true:  $|c-xn|>\\epsilon$\n",
    "\n",
    "Let $n>0$ and $m<0$ s.t. $m<n$.\n",
    "   \n",
    "$\\lvert c - x_n \\rvert > \\varepsilon$\n",
    "   \n",
    "For all $n > 0$, $\\lvert (-1)^n - c \\rvert > \\varepsilon$\n",
    "\n",
    "So:\n",
    "   \n",
    "$1 - c > \\varepsilon \\longrightarrow c > 1 - \\varepsilon$\n",
    "   \n",
    "$-1 + c > \\varepsilon \\longrightarrow c < 1 + \\varepsilon$\n",
    "\n",
    "Therefore $1 - \\varepsilon < c < \\varepsilon + 1$\n",
    "   \n",
    "For all $m < n$, $\\lvert (-1)^m - c \\rvert > \\varepsilon$\n",
    "\n",
    "Then:\n",
    "\n",
    "$-1 - c > \\varepsilon \\longrightarrow c > -1 - \\varepsilon$\n",
    "\n",
    "$1 + c < \\varepsilon \\longrightarrow c < -1 + \\varepsilon$\n",
    "\n",
    "Therefore $-(1 + \\varepsilon) < c < 1 + \\varepsilon$\n",
    "\n",
    "Combining these two parameters where $n > 0$ and $m < n$, since $\\varepsilon - 1 < 1 - \\varepsilon$:\n",
    "\n",
    "$-(1 + \\varepsilon) < c < \\varepsilon - 1 < 1 - \\varepsilon < c < 1 + \\varepsilon$\n",
    "\n",
    "Simplifying this equation yeilds: $c < c$.\n",
    "   \n",
    "Because $c < c$ cannot be true, there is no limit and there is no $m$ s.t. $c - \\varepsilon < x_n < c + \\varepsilon$. "
   ]
  },
  {
   "cell_type": "markdown",
   "metadata": {},
   "source": [
    "### 4. Sequences via recurrence relations\n",
    "\n",
    "Let $x_0 = 1$ and $x_{i+1} = - a x_i$ where $0 < a < 1$.\n",
    "\n",
    "a) Plot the first 20 points in $(x_n)$ when $a=\\frac{1}{2}$. \n",
    "\n",
    "b) Show that $(x_n)$ converges to 0. "
   ]
  },
  {
   "cell_type": "code",
   "execution_count": 2,
   "metadata": {},
   "outputs": [
    {
     "data": {
      "image/png": "[encoded data removed]",
      "text/plain": [
       "<matplotlib.figure.Figure at 0xbdb1030>"
      ]
     },
     "metadata": {
      "needs_background": "light"
     },
     "output_type": "display_data"
    }
   ],
   "source": [
    "import matplotlib.pyplot as plt\n",
    "\n",
    "def prob4(n):\n",
    "    seq = [1]\n",
    "    a = 1/2\n",
    "\n",
    "    for i in range(1, n):\n",
    "        y = -a*seq[i-1]\n",
    "        seq.append(y)\n",
    "\n",
    "    return seq\n",
    "\n",
    "s = prob4(20)\n",
    "\n",
    "# print first 20 points of the sequences\n",
    "plt.plot(s, 'b')\n",
    "plt.title('$x_{i+1} = -ax_i, a = 1/2, x_0 = 1$')\n",
    "plt.ylabel('y')\n",
    "plt.xlabel('x')\n",
    "plt.show()\n"
   ]
  },
  {
   "cell_type": "markdown",
   "metadata": {},
   "source": [
    "b) The sequence becomes stable at or close to 0 therefore graphically we can see that the limit of $x_n = 0$."
   ]
  },
  {
   "cell_type": "markdown",
   "metadata": {},
   "source": [
    " ### 5. Sequences via recurrence relations - 2\n",
    "\n",
    "Let $x_0 = 1$ and $x_{i+1} = - a x_i + \\frac{1}{5}$ where $0 < a < 1$.\n",
    "\n",
    "a) Plot the first 20 points in $(x_n)$ when $a=\\frac{1}{3}$. \n",
    "\n",
    "b) Show that $(x_n)$ converges to 0. "
   ]
  },
  {
   "cell_type": "code",
   "execution_count": 4,
   "metadata": {},
   "outputs": [
    {
     "data": {
      "image/png": "[encoded data removed]",
      "text/plain": [
       "<matplotlib.figure.Figure at 0xbdc79f0>"
      ]
     },
     "metadata": {
      "needs_background": "light"
     },
     "output_type": "display_data"
    }
   ],
   "source": [
    "import matplotlib.pyplot as plt\n",
    "\n",
    "def prob5(n):\n",
    "    seq = [1]\n",
    "    a = 1/3\n",
    "\n",
    "    for i in range(1, n):\n",
    "        y = -a*seq[i-1] + 1/5\n",
    "        seq.append(y)\n",
    "\n",
    "    return seq\n",
    "\n",
    "s = prob5(20)\n",
    "\n",
    "# print first 20 points of the sequences\n",
    "plt.plot(s, 'b')\n",
    "plt.title('$x_{i+1} = -ax_i + 1/5, a = 1/3, x_0 = 1$')\n",
    "plt.ylabel('y')\n",
    "plt.xlabel('x')\n",
    "plt.show()"
   ]
  },
  {
   "cell_type": "markdown",
   "metadata": {},
   "source": [
    "b) The sequence becomes stable at or close to 0.2 therefore graphically we can see that the limit of $x_n \\neq 0$."
   ]
  },
  {
   "cell_type": "markdown",
   "metadata": {},
   "source": [
    " ### 6. Sequences via recurrence relations - 3\n",
    "\n",
    "Let $x_0 = 1$ and $x_{i+1} = - a x_i$ where $0 < a \\leq 1$.\n",
    "\n",
    "a) Plot the first 20 points in $(x_n)$ when $a=1$. \n",
    "\n",
    "b) What happens with the convergance of the given sequences $(x_n)$?"
   ]
  },
  {
   "cell_type": "code",
   "execution_count": 6,
   "metadata": {},
   "outputs": [
    {
     "data": {
      "image/png": "[encoded data removed]",
      "text/plain": [
       "<matplotlib.figure.Figure at 0xad1d30>"
      ]
     },
     "metadata": {
      "needs_background": "light"
     },
     "output_type": "display_data"
    }
   ],
   "source": [
    "import matplotlib.pyplot as plt\n",
    "\n",
    "def prob6(n):\n",
    "    seq = [1]\n",
    "    a = 1\n",
    "\n",
    "    for i in range(1, n):\n",
    "        y = -a*seq[i-1]\n",
    "        seq.append(y)\n",
    "\n",
    "    return seq\n",
    "\n",
    "s = prob6(20)\n",
    "\n",
    "# print first 20 points of the sequences\n",
    "plt.plot(s, 'b')\n",
    "plt.title('$x_{i+1} = -ax_i, a = 1, x_0 = 1$')\n",
    "plt.ylabel('y')\n",
    "plt.xlabel('x')\n",
    "plt.show()"
   ]
  },
  {
   "cell_type": "markdown",
   "metadata": {},
   "source": [
    "b) Graphically we can see that the value does not stabalize to a particular value. Therefore $x_n$ does not converge."
   ]
  },
  {
   "cell_type": "markdown",
   "metadata": {},
   "source": [
    " ### 7. Sequences via recurrence relations - 7\n",
    "\n",
    "Let $x_0 = 1$ and $x_{i+1} = a x_i$ where $a \\geq 1$.\n",
    "\n",
    "a) Plot the first 20 points in $(x_n)$ when $a= \\frac{3}{2}$. \n",
    "\n",
    "b) What happens with the convergance of the given sequences $(x_n)$?"
   ]
  },
  {
   "cell_type": "code",
   "execution_count": 7,
   "metadata": {},
   "outputs": [
    {
     "data": {
      "image/png": "[encoded data removed]",
      "text/plain": [
       "<matplotlib.figure.Figure at 0xb30110>"
      ]
     },
     "metadata": {
      "needs_background": "light"
     },
     "output_type": "display_data"
    }
   ],
   "source": [
    "import matplotlib.pyplot as plt\n",
    "\n",
    "def prob7(n):\n",
    "    seq = [1]\n",
    "    a = 3/2\n",
    "\n",
    "    for i in range(1, n):\n",
    "        y = a*seq[i-1]\n",
    "        seq.append(y)\n",
    "\n",
    "    return seq\n",
    "\n",
    "s = prob7(20)\n",
    "\n",
    "# print first 20 points of the sequences\n",
    "plt.plot(s, 'b')\n",
    "plt.title('$x_{i+1} = ax_i, a = 3/2, x_0 = 1$')\n",
    "plt.ylabel('y')\n",
    "plt.xlabel('x')\n",
    "plt.show()"
   ]
  },
  {
   "cell_type": "markdown",
   "metadata": {},
   "source": [
    "b) Graphically we see that the value of the function approaches infinity."
   ]
  },
  {
   "cell_type": "markdown",
   "metadata": {},
   "source": [
    "### 8. Definition of Derivative\n",
    "\n",
    "Use the definition of the derivative to find the derivatives of the following functions.\n",
    "\n",
    "a) $f(x) = x^3$, for any $x$\n",
    "\n",
    "b) $g(x) = 1/x$, for $x \\neq 0$\n",
    "\n",
    "c) $h(x) = \\sqrt{x}$, for $x > 0$\n",
    "\n",
    "d) $k(x) = x^{-1/2}$ for $x > 0$."
   ]
  },
  {
   "cell_type": "markdown",
   "metadata": {},
   "source": [
    "a) $f'(x) = 3x^2$\n",
    "\n",
    "b) $g'(x) = \\frac{-1}{x^2}$\n",
    "\n",
    "c) $h'(x) = \\frac{1}{2}x^{\\frac{-1}{2}}$\n",
    "\n",
    "d) $k'(x) = \\frac{-1}{2}x^\\frac{-3}{2}$"
   ]
  },
  {
   "cell_type": "markdown",
   "metadata": {},
   "source": [
    "### 9. The Chain Rule\n",
    "\n",
    "Use the chain rule to find these deriviatives. Verify your results with `sympy`.\n",
    "\n",
    "a) $f(x) = \\frac{1}{1+x^2}$\n",
    "\n",
    "b) $h(x) = (\\sin x^k)^m$ for $m,k \\in \\mathbb{N}$"
   ]
  },
  {
   "cell_type": "markdown",
   "metadata": {},
   "source": [
    "The chain rule for fractions can be summed up in words as \"Bottom times the deriv of the top, minus top times the deriv of the bottom, over the bottom squared\". Doing this results in:\n",
    "\n",
    "a) $f'(x) = \\frac{-2x}{(1+x^2)^2}$"
   ]
  },
  {
   "cell_type": "code",
   "execution_count": 16,
   "metadata": {},
   "outputs": [
    {
     "data": {
      "text/latex": [
       "$\\displaystyle - \\frac{2 x}{\\left(x^{2} + 1\\right)^{2}}$"
      ],
      "text/plain": [
       "-2*x/(x**2 + 1)**2"
      ]
     },
     "execution_count": 16,
     "metadata": {},
     "output_type": "execute_result"
    }
   ],
   "source": [
    "import sympy as sp\n",
    "\n",
    "x = sp.Symbol('x')\n",
    "\n",
    "f = 1/(1+x**2)\n",
    "\n",
    "deriv1 = f.diff(x)\n",
    "deriv1\n"
   ]
  },
  {
   "cell_type": "markdown",
   "metadata": {},
   "source": [
    "b) $h'(x) = \\frac{kmx^k \\sin{(x^k)}\\cos{(x^k)}}{x \\sin{(x^k)}}$"
   ]
  },
  {
   "cell_type": "code",
   "execution_count": 17,
   "metadata": {},
   "outputs": [
    {
     "data": {
      "text/latex": [
       "$\\displaystyle \\frac{k m x^{k} \\sin^{m}{\\left(x^{k} \\right)} \\cos{\\left(x^{k} \\right)}}{x \\sin{\\left(x^{k} \\right)}}$"
      ],
      "text/plain": [
       "k*m*x**k*sin(x**k)**m*cos(x**k)/(x*sin(x**k))"
      ]
     },
     "execution_count": 17,
     "metadata": {},
     "output_type": "execute_result"
    }
   ],
   "source": [
    "import sympy as sp\n",
    "\n",
    "k = sp.Symbol('k')\n",
    "m = sp.Symbol('m')\n",
    "\n",
    "h = (sp.sin(x**k))**m\n",
    "\n",
    "deriv2 = h.diff(x)\n",
    "deriv2"
   ]
  }
 ],
 "metadata": {
  "kernelspec": {
   "display_name": "Python 3",
   "language": "python",
   "name": "python3"
  },
  "language_info": {
   "codemirror_mode": {
    "name": "ipython",
    "version": 3
   },
   "file_extension": ".py",
   "mimetype": "text/x-python",
   "name": "python",
   "nbconvert_exporter": "python",
   "pygments_lexer": "ipython3",
   "version": "3.6.2"
  }
 },
 "nbformat": 4,
 "nbformat_minor": 4
}
