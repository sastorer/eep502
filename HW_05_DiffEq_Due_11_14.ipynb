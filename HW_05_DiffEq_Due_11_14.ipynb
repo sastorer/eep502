{
 "cells": [
  {
   "cell_type": "markdown",
   "metadata": {
    "ExecuteTime": {
     "end_time": "2019-09-24T16:05:23.746666Z",
     "start_time": "2019-09-24T16:05:23.741461Z"
    }
   },
   "source": [
    "## EE 502 P: Analytical Methods for Electrical Engineering\n",
    "    \n",
    "# Homework 5: Differential Equations\n",
    "\n",
    "## Due November 14, 2021 by 11:59 PM\n",
    "### <span style=\"color: red\">YOUR NAME HERE</span>\n",
    "\n",
    "Copyright &copy; 2021, University of Washington\n",
    "\n",
    "<hr>\n",
    "\n",
    "**Instructions**: Please use this notebook as a template. Answer all questions using well formatted Markdown with embedded LaTeX equations, executable Jupyter cells, or both. Submit your homework solutions as an `.ipynb` file via Canvas.\n",
    "\n",
    "<span style=\"color: red'\">\n",
    "Although you may discuss the homework with others, you must turn in your own, original work.\n",
    "</span>\n",
    "\n",
    "**Things to remember:**\n",
    "- Use complete sentences. Equations should appear in text as grammatical elements.\n",
    "- Comment your code.\n",
    "- Label your axes. Title your plots. Use legends where appropriate. \n",
    "- Before submitting a notebook, choose Kernel -> Restart and Run All to make sure your notebook runs when the cells are evaluated in order. "
   ]
  },
  {
   "cell_type": "markdown",
   "metadata": {},
   "source": [
    "### 0. Warmup (Do not turn in)\n",
    "\n",
    "- Make sure you download, read, and run the notebook for lecture 6. Work through the notebook cell by cell and see what happens when you change the expressions, and make up some of your own.\n",
    "- The material covered in class is intended to be an introductory subset the general subject of differential equations. To get the full story, an indispensable book is the one by Hirsch and Smale: https://www.amazon.com/Differential-Equations-Dynamical-Systems-Introduction/dp/0123820103\n",
    "- The material covered here in particular comes from the beginnings of Chapters 1, 2, 3, 3, 6, 12, and 14."
   ]
  },
  {
   "cell_type": "markdown",
   "metadata": {},
   "source": [
    "### 1. Taylor Approxmations\n",
    "\n",
    "Use `sympy` to find the Taylor Approximations to $\\sin x$ with 1 term, 2 terms, 3 terms, all the way up to 6 terms.\n",
    "Ignore the remainder term. Plot all of these approximations along with $\\sin x$ on the same plot, showing the \n",
    "approximations get better and better. "
   ]
  },
  {
   "cell_type": "code",
   "execution_count": 9,
   "metadata": {},
   "outputs": [
    {
     "data": {
      "image/png": "[encoded data removed]",
      "text/plain": [
       "<Figure size 432x288 with 1 Axes>"
      ]
     },
     "metadata": {},
     "output_type": "display_data"
    }
   ],
   "source": [
    "import sympy as sy\n",
    "import numpy as np\n",
    "from sympy.functions import sin\n",
    "import matplotlib.pyplot as plt\n",
    "\n",
    "plt.style.use(\"ggplot\")\n",
    "\n",
    "# Define the variable and the function to approximate\n",
    "x = sy.Symbol('x')\n",
    "f = sin(x)\n",
    "\n",
    "# Taylor approximation at x0 of the function 'function'\n",
    "def taylor(function,x0,n):\n",
    "    i = 0\n",
    "    p = 0\n",
    "    while i <= n:\n",
    "        p = p + (function.diff(x,i).subs(x,x0))/np.math.factorial(i)*(x-x0)**i\n",
    "        i += 1\n",
    "    return p\n",
    "\n",
    "def plot():\n",
    "    x1 = np.linspace(-5,5,800)\n",
    "    y1 = []\n",
    "    # Approximate up until 10 starting from 1 and using steps of 2\n",
    "    for j in range(6):\n",
    "        func = taylor(f,0,j)\n",
    "        for k in x1:\n",
    "            y1.append(func.subs(x,k))\n",
    "        plt.plot(x1,y1,label='order '+str(j))\n",
    "        y1 = []\n",
    "    # Plot the function to approximate (sine, in this case)\n",
    "    plt.plot(x1,np.sin(x1),label='sin of x')\n",
    "    plt.xlim([-5,5])\n",
    "    plt.ylim([-5,5])\n",
    "    plt.xlabel('x')\n",
    "    plt.ylabel('y')\n",
    "    plt.legend()\n",
    "    plt.title('Taylor series approximation')\n",
    "    plt.show()\n",
    "\n",
    "plot()"
   ]
  },
  {
   "cell_type": "markdown",
   "metadata": {},
   "source": [
    "### 2. Showing Inequalities With Taylor's Approximation.\n",
    "\n",
    "Show that if $x>0$ then $1 + \\frac{1}{2}x - \\frac{1}{8}x^2 \\leq \\sqrt{1+x} \\leq 1 + \\frac{1}{2}x$. \n",
    "\n",
    "Hint: break this into two steps, one for each inequality. For the first step, use the first three terms of the Taylor approximation and a residual term that is cubic. For the second inequality, use the first two terms of the Taylor approximation and a residual term that is a square. Make sure to explain each step of your argument.\n",
    "\n",
    "How good is this approximation for $\\sqrt{2}$? How about $\\sqrt{3}$? \n",
    "\n",
    "Visualize this problem by making a plot showing the relationship of the three expressions as $x$ increases."
   ]
  },
  {
   "cell_type": "markdown",
   "metadata": {},
   "source": [
    "We can use Taylor’s theorem to derive an approximation for some $c$\n",
    "with $x < c < x_0$ as follows:\n",
    "\n",
    "$f(x) = f(x_0)+f'(x_0)(x-x_0)+\\frac{f''(x_0)}{2!}(x-x_0)^2+\\dots+\\frac{f^{(n)}(x_0)}{n!}(x-x_0)^n$\n",
    "\n",
    "The remainder formula for Taylor Polynomials is as follows:\n",
    "\n",
    "$|R_n| = |\\frac{f^{(n+1)}(c)}{(n+1)!}(x-a)^{(n+1)}|$\n",
    "\n",
    "Let $f(x) = 1 + \\frac{1}{2}x - \\frac{1}{8}x^2$ and $g(x) = 1 + \\frac{1}{2}x$\n",
    "\n",
    "$\\sqrt{1+x}$ can be expanded as:\n",
    "\n",
    "$1 + \\frac{1}{2}x - \\frac{1}{8}x^2 + |\\frac{f^{(3)}(c)}{(3)!}(x-x_0)^{(3)}|$\n",
    "\n",
    "and\n",
    "\n",
    "$1 + \\frac{1}{2}x - |\\frac{f^{(2)}(c)}{(2)!}(x-x_0)^{(2)}|$.\n",
    "\n",
    "Then,\n",
    "\n",
    "$1 + \\frac{1}{2}x - \\frac{1}{8}x^2 \\leq 1 + \\frac{1}{2}x - \\frac{1}{8}x^2 + |\\frac{f^{(3)}(c)}{(3)!}(x-x_0)^{(3)}|$\n",
    "\n",
    "$0 \\leq |\\frac{f^{(3)}(c)}{(3)!}(x-x_0)^{(3)}|$\n",
    "\n",
    "$0 \\leq \\frac{3}{48}(1+c)^{-5/2}(x-c)^3$\n",
    "\n",
    "and\n",
    "\n",
    "$1 + \\frac{1}{2}x - |\\frac{f^{(2)}(c)}{(2)!}(x-x_0)^{(2)}| \\leq 1 + \\frac{1}{2}x $\n",
    "\n",
    "$ - |\\frac{f^{(2)}(c)}{(2)!}(x-x_0)^{(2)}| \\leq 0$\n",
    "\n",
    "$ -\\frac{1}{8}(1+c)^{-3/2}(x-c)^2 \\leq 0$\n",
    "\n",
    "Therefore, \n",
    "\n",
    "$ -\\frac{1}{8}(1+c)^{-3/2}(x-c)^2 \\leq 0 \\leq \\frac{3}{48}(1+c)^{-5/2}(x-c)^3$. This is obviously true.\n",
    "\n",
    "---\n",
    "\n",
    "For $\\sqrt{2}$, using $x=1$ since $\\sqrt{1 + 1} = \\sqrt{2}$ and using $x_0 = 0$\n",
    "\n",
    "$1 + \\frac{1}{2}(1) - |\\frac{f^{(2)}(c)}{(2)!}(x-x_0)^{(2)}|$\n",
    "\n",
    "$\\frac{3}{2} -\\frac{1}{8(1)^{\\frac{3}{2}}} = ~1.455$\n",
    "\n",
    "$\\sqrt{2} = ~1.414$\n",
    "\n",
    "This approximation is good for $\\sqrt{2}$\n",
    "\n",
    "---\n",
    "\n",
    "For $\\sqrt{3}$, using $x=2$ since $\\sqrt{1 + 2} = \\sqrt{3}$ and using $x_0 = 0$\n",
    "\n",
    "$1 + \\frac{1}{2}(2) - \\frac{1}{8}(2)^2 - |\\frac{f^{(3)}(c)}{(3)!}(x-x_0)^{(3)}|$\n",
    "\n",
    "$\\frac{3}{2} - \\frac{3}{48}(1+\\sqrt{3})^{-5/2}(2-\\sqrt{3})^3 = ~1.499$\n",
    "\n",
    "$\\sqrt{3} = ~1.732$\n",
    "\n",
    "This approximation is not as good for $\\sqrt{3}$\n",
    "\n",
    "\n"
   ]
  },
  {
   "cell_type": "code",
   "execution_count": 15,
   "metadata": {},
   "outputs": [
    {
     "data": {
      "image/png": "[encoded data removed]",
      "text/plain": [
       "<Figure size 1440x288 with 1 Axes>"
      ]
     },
     "metadata": {},
     "output_type": "display_data"
    }
   ],
   "source": [
    "x = np.linspace(0,20,20)\n",
    "\n",
    "fig = plt.figure(figsize=[20, 4])\n",
    "ax = fig.add_subplot(1, 5, 1)\n",
    "ax.spines['left'].set_position((\"data\", 0))\n",
    "ax.spines['bottom'].set_position((\"data\", 0))\n",
    "ax.spines['right'].set_color('none')\n",
    "ax.spines['top'].set_color('none')\n",
    "ax.xaxis.set_ticks_position('bottom')\n",
    "ax.yaxis.set_ticks_position('left')\n",
    "plt.title('Funciton Relationships', fontweight =\"bold\")\n",
    "plt.xlabel(\"x\")\n",
    "plt.ylabel(\"y\");\n",
    "\n",
    "# plot the function\n",
    "plt.plot(x, (1 + (1/2)*x - (1/8)*x**2), 'g', label=\"$1 + (1/2)x - (1/8)x^2$\");\n",
    "plt.plot(x, (1+x)**(1/2), 'b', label=\"$\\sqrt{1+x}$\");\n",
    "plt.plot(x, (1 + (1/2)*x), 'r', label=\"$1 + (1/2)x$\");\n",
    "plt.legend();\n",
    "plt.show()"
   ]
  },
  {
   "cell_type": "markdown",
   "metadata": {
    "ExecuteTime": {
     "end_time": "2019-10-08T16:48:02.889303Z",
     "start_time": "2019-10-08T16:48:02.885366Z"
    }
   },
   "source": [
    "### 3. Equilibria Points and Linearization\n",
    "\n",
    "For each of the\n",
    "following systems:\n",
    "(i) find the equilibria, \n",
    "(ii) linearize the system around each equilibrium and find the eigenvalues, and\n",
    "(iii) state whether the system is stable at each equilibrium.\n",
    "\n",
    "$$\n",
    "\\mathrm{a)} \\;\\; \n",
    "\\begin{pmatrix}\n",
    "\\dot x_1 \\\\\n",
    "\\dot x_2\n",
    "\\end{pmatrix} = \n",
    "\\begin{pmatrix}\n",
    "x_2^2 \\\\\n",
    "x_1^2\n",
    "\\end{pmatrix}\n",
    "$$\n",
    "\n",
    "$$\n",
    "\\mathrm{b)} \\;\\; \n",
    "\\begin{pmatrix}\n",
    "\\dot x_1 \\\\\n",
    "\\dot x_2\n",
    "\\end{pmatrix} = \n",
    "\\begin{pmatrix}\n",
    "x_1^2 + x_2^2 \\\\\n",
    "x_2\n",
    "\\end{pmatrix}\n",
    "$$\n",
    "\n",
    "$$\n",
    "\\mathrm{c)} \\;\\; \n",
    "\\begin{pmatrix}\n",
    "\\dot x_1 \\\\\n",
    "\\dot x_2\n",
    "\\end{pmatrix} = \n",
    "\\begin{pmatrix}\n",
    "\\sin x_2 \\\\\n",
    "\\cos x_1\n",
    "\\end{pmatrix}\n",
    "$$"
   ]
  },
  {
   "cell_type": "markdown",
   "metadata": {},
   "source": [
    "### 4. Tuning Eigenvalues\n",
    "\n",
    "Consider the matrix\n",
    "\n",
    "$$\n",
    "A = \\begin{pmatrix}\n",
    "  k & -k \\\\\n",
    "  1 & k-1 \\\\\n",
    "\\end{pmatrix}\n",
    "$$\n",
    "\n",
    "and the system $\\dot x = A x$. Plot the real part of the eigenvalues of $A$ as a function of $k$, for $k$ ranging from -2 to 2. \n",
    "For what values of $k$ is the system stable? \n",
    "\n",
    "Plot example phase portraits for $A$ when $k$ is in the stable range showing the range of behaviors you can get from tuning $k$. "
   ]
  },
  {
   "cell_type": "markdown",
   "metadata": {
    "ExecuteTime": {
     "end_time": "2019-10-30T18:53:43.242983Z",
     "start_time": "2019-10-30T18:53:43.238177Z"
    }
   },
   "source": [
    "### 5. Rotations Again\n",
    "\n",
    "Let $\\dot x = Ax$\n",
    "\n",
    "$$\n",
    "A = \\begin{pmatrix}\n",
    "0 & -w_3 & w_2 \\\\\n",
    "w_3 & 0 & -w_1 \\\\\n",
    "-w_2 & w_1 & 0\n",
    "\\end{pmatrix}\n",
    "$$\n",
    "\n",
    "where $w_i \\in \\mathbb{R}$. \n",
    "\n",
    "a) Show that $A$ is **skew symmetric**, meaning that, that $A^T = -A$.\n",
    "\n",
    "b) Show that all points of the form \n",
    "\n",
    "$$\n",
    "x = a \\begin{pmatrix}\n",
    "w_1 \\\\\n",
    "w_2 \\\\\n",
    "w_3\n",
    "\\end{pmatrix}\n",
    "$$\n",
    "\n",
    "where $a$ is a scalar are equilibrum points. \n",
    "\n",
    "c) Choose a few different choices for the $w_i$ and for each choice show example numerical trajectories by plotting the three components of the state $x$ versus time. Also plot the trajectories in the $x_1$ - $x_2$ plane. "
   ]
  },
  {
   "cell_type": "markdown",
   "metadata": {},
   "source": [
    "### 6. Analysis of a Bistable Switch\n",
    "\n",
    "A genetic bistable switch has the model\n",
    "\n",
    "$$\n",
    "\\dot u = \\frac{\\alpha_1}{1 + v^2} - u \\\\\n",
    "\\dot v = \\frac{\\alpha_2}{1 + u^2} - v \n",
    "$$\n",
    "\n",
    "where $\\alpha_1$ and $\\alpha_2$ are the expression rates of the two proteins $u$ and $v$. The behavior of this system is that when one protein is high, the other should be low.\n",
    "\n",
    "a) Show that when $\\alpha_1 = \\alpha_2 = \\frac{17}{4}$, there are two isolated equilibra corresponding to having one protein be high and the other low. Show that these equilibria are unstable. \n",
    "\n",
    "**Note**: You might start this problem by plotting the vector field for this system and finding the equilibria graphically.\n",
    "\n",
    "b) Find values of $\\alpha_1$ and $\\alpha_2$ for which there is only equilibrium (assuming positive values for $u$ and $v$). Is this equilibrium stable?"
   ]
  },
  {
   "cell_type": "markdown",
   "metadata": {},
   "source": [
    "### 7. Simulation \n",
    "\n",
    "Using simulation and visualization, explain the behavior of the system\n",
    "\n",
    "\\begin{eqnarray}\n",
    "\\dot x & = & -y - z \\\\\n",
    "\\dot y & = & x + a y \\\\\n",
    "\\dot z & = & b + z(x-c)\n",
    "\\end{eqnarray}\n",
    "\n",
    "where $a=0.2$, $b=0.2$ and $c=5.7$. "
   ]
  }
 ],
 "metadata": {
  "kernelspec": {
   "display_name": "Python 3",
   "language": "python",
   "name": "python3"
  },
  "language_info": {
   "codemirror_mode": {
    "name": "ipython",
    "version": 3
   },
   "file_extension": ".py",
   "mimetype": "text/x-python",
   "name": "python",
   "nbconvert_exporter": "python",
   "pygments_lexer": "ipython3",
   "version": "3.6.2"
  }
 },
 "nbformat": 4,
 "nbformat_minor": 4
}
